{
  "nbformat": 4,
  "nbformat_minor": 0,
  "metadata": {
    "colab": {
      "name": "Arabic Dialect Identification Project.ipynb",
      "provenance": [],
      "collapsed_sections": [],
      "authorship_tag": "ABX9TyMfpdVL/QqOZczKNjdVmaqx",
      "include_colab_link": true
    },
    "kernelspec": {
      "name": "python3",
      "display_name": "Python 3"
    },
    "language_info": {
      "name": "python"
    },
    "accelerator": "GPU"
  },
  "cells": [
    {
      "cell_type": "markdown",
      "metadata": {
        "id": "view-in-github",
        "colab_type": "text"
      },
      "source": [
        "<a href=\"https://colab.research.google.com/github/Rahma2015/Arabic-Dialect-Identification-NLP-work/blob/main/Arabic_Dialect_Identification_Project.ipynb\" target=\"_parent\"><img src=\"https://colab.research.google.com/assets/colab-badge.svg\" alt=\"Open In Colab\"/></a>"
      ]
    },
    {
      "cell_type": "markdown",
      "source": [
        "#Exploring Data and requesting them"
      ],
      "metadata": {
        "id": "-dPtTzhKArNA"
      }
    },
    {
      "cell_type": "code",
      "execution_count": null,
      "metadata": {
        "colab": {
          "base_uri": "https://localhost:8080/"
        },
        "id": "ZhCa4rteY51j",
        "outputId": "680007b5-bb41-4238-971b-e64b8a546988"
      },
      "outputs": [
        {
          "output_type": "stream",
          "name": "stdout",
          "text": [
            "                         id dialect\n",
            "0       1175358310087892992      IQ\n",
            "1       1175416117793349632      IQ\n",
            "2       1175450108898565888      IQ\n",
            "3       1175471073770573824      IQ\n",
            "4       1175496913145217024      IQ\n",
            "...                     ...     ...\n",
            "458192  1019484980282580992      BH\n",
            "458193  1021083283709407232      BH\n",
            "458194  1017477537889431552      BH\n",
            "458195  1022430374696239232      BH\n",
            "458196  1022409931029458944      BH\n",
            "\n",
            "[458197 rows x 2 columns]\n",
            "916394\n"
          ]
        }
      ],
      "source": [
        "import pandas as pd\n",
        "\n",
        "df = pd.read_csv('dialect_dataset.csv')\n",
        "\n",
        "print(df)\n",
        "\n",
        "print(df.size)\n",
        "\n",
        "#first column (id) is the id of text and second column (dialect) is the dialect of this text"
      ]
    },
    {
      "cell_type": "code",
      "source": [
        "#shuffle the dataframe\n",
        "#df = df.sample(frac = 1)\n",
        "df = df.sample(frac=1).reset_index(drop=True)\n",
        "df.head(10)"
      ],
      "metadata": {
        "colab": {
          "base_uri": "https://localhost:8080/",
          "height": 363
        },
        "id": "P53arDcXu2Kl",
        "outputId": "a23b6184-f5ed-4677-a57b-bdc75c3b9fd7"
      },
      "execution_count": null,
      "outputs": [
        {
          "output_type": "execute_result",
          "data": {
            "text/plain": [
              "                    id dialect\n",
              "0   449563347961143296      EG\n",
              "1  1149689450974404608      JO\n",
              "2  1173198008093163520      KW\n",
              "3   307510240012812288      QA\n",
              "4   847567673680678912      AE\n",
              "5  1147437184884064384      QA\n",
              "6   961238980149895168      QA\n",
              "7  1007940984343355392      EG\n",
              "8   311630062694842368      BH\n",
              "9  1129530566553034752      KW"
            ],
            "text/html": [
              "\n",
              "  <div id=\"df-fcbacdbb-1415-489c-aead-2712500a2cbc\">\n",
              "    <div class=\"colab-df-container\">\n",
              "      <div>\n",
              "<style scoped>\n",
              "    .dataframe tbody tr th:only-of-type {\n",
              "        vertical-align: middle;\n",
              "    }\n",
              "\n",
              "    .dataframe tbody tr th {\n",
              "        vertical-align: top;\n",
              "    }\n",
              "\n",
              "    .dataframe thead th {\n",
              "        text-align: right;\n",
              "    }\n",
              "</style>\n",
              "<table border=\"1\" class=\"dataframe\">\n",
              "  <thead>\n",
              "    <tr style=\"text-align: right;\">\n",
              "      <th></th>\n",
              "      <th>id</th>\n",
              "      <th>dialect</th>\n",
              "    </tr>\n",
              "  </thead>\n",
              "  <tbody>\n",
              "    <tr>\n",
              "      <th>0</th>\n",
              "      <td>449563347961143296</td>\n",
              "      <td>EG</td>\n",
              "    </tr>\n",
              "    <tr>\n",
              "      <th>1</th>\n",
              "      <td>1149689450974404608</td>\n",
              "      <td>JO</td>\n",
              "    </tr>\n",
              "    <tr>\n",
              "      <th>2</th>\n",
              "      <td>1173198008093163520</td>\n",
              "      <td>KW</td>\n",
              "    </tr>\n",
              "    <tr>\n",
              "      <th>3</th>\n",
              "      <td>307510240012812288</td>\n",
              "      <td>QA</td>\n",
              "    </tr>\n",
              "    <tr>\n",
              "      <th>4</th>\n",
              "      <td>847567673680678912</td>\n",
              "      <td>AE</td>\n",
              "    </tr>\n",
              "    <tr>\n",
              "      <th>5</th>\n",
              "      <td>1147437184884064384</td>\n",
              "      <td>QA</td>\n",
              "    </tr>\n",
              "    <tr>\n",
              "      <th>6</th>\n",
              "      <td>961238980149895168</td>\n",
              "      <td>QA</td>\n",
              "    </tr>\n",
              "    <tr>\n",
              "      <th>7</th>\n",
              "      <td>1007940984343355392</td>\n",
              "      <td>EG</td>\n",
              "    </tr>\n",
              "    <tr>\n",
              "      <th>8</th>\n",
              "      <td>311630062694842368</td>\n",
              "      <td>BH</td>\n",
              "    </tr>\n",
              "    <tr>\n",
              "      <th>9</th>\n",
              "      <td>1129530566553034752</td>\n",
              "      <td>KW</td>\n",
              "    </tr>\n",
              "  </tbody>\n",
              "</table>\n",
              "</div>\n",
              "      <button class=\"colab-df-convert\" onclick=\"convertToInteractive('df-fcbacdbb-1415-489c-aead-2712500a2cbc')\"\n",
              "              title=\"Convert this dataframe to an interactive table.\"\n",
              "              style=\"display:none;\">\n",
              "        \n",
              "  <svg xmlns=\"http://www.w3.org/2000/svg\" height=\"24px\"viewBox=\"0 0 24 24\"\n",
              "       width=\"24px\">\n",
              "    <path d=\"M0 0h24v24H0V0z\" fill=\"none\"/>\n",
              "    <path d=\"M18.56 5.44l.94 2.06.94-2.06 2.06-.94-2.06-.94-.94-2.06-.94 2.06-2.06.94zm-11 1L8.5 8.5l.94-2.06 2.06-.94-2.06-.94L8.5 2.5l-.94 2.06-2.06.94zm10 10l.94 2.06.94-2.06 2.06-.94-2.06-.94-.94-2.06-.94 2.06-2.06.94z\"/><path d=\"M17.41 7.96l-1.37-1.37c-.4-.4-.92-.59-1.43-.59-.52 0-1.04.2-1.43.59L10.3 9.45l-7.72 7.72c-.78.78-.78 2.05 0 2.83L4 21.41c.39.39.9.59 1.41.59.51 0 1.02-.2 1.41-.59l7.78-7.78 2.81-2.81c.8-.78.8-2.07 0-2.86zM5.41 20L4 18.59l7.72-7.72 1.47 1.35L5.41 20z\"/>\n",
              "  </svg>\n",
              "      </button>\n",
              "      \n",
              "  <style>\n",
              "    .colab-df-container {\n",
              "      display:flex;\n",
              "      flex-wrap:wrap;\n",
              "      gap: 12px;\n",
              "    }\n",
              "\n",
              "    .colab-df-convert {\n",
              "      background-color: #E8F0FE;\n",
              "      border: none;\n",
              "      border-radius: 50%;\n",
              "      cursor: pointer;\n",
              "      display: none;\n",
              "      fill: #1967D2;\n",
              "      height: 32px;\n",
              "      padding: 0 0 0 0;\n",
              "      width: 32px;\n",
              "    }\n",
              "\n",
              "    .colab-df-convert:hover {\n",
              "      background-color: #E2EBFA;\n",
              "      box-shadow: 0px 1px 2px rgba(60, 64, 67, 0.3), 0px 1px 3px 1px rgba(60, 64, 67, 0.15);\n",
              "      fill: #174EA6;\n",
              "    }\n",
              "\n",
              "    [theme=dark] .colab-df-convert {\n",
              "      background-color: #3B4455;\n",
              "      fill: #D2E3FC;\n",
              "    }\n",
              "\n",
              "    [theme=dark] .colab-df-convert:hover {\n",
              "      background-color: #434B5C;\n",
              "      box-shadow: 0px 1px 3px 1px rgba(0, 0, 0, 0.15);\n",
              "      filter: drop-shadow(0px 1px 2px rgba(0, 0, 0, 0.3));\n",
              "      fill: #FFFFFF;\n",
              "    }\n",
              "  </style>\n",
              "\n",
              "      <script>\n",
              "        const buttonEl =\n",
              "          document.querySelector('#df-fcbacdbb-1415-489c-aead-2712500a2cbc button.colab-df-convert');\n",
              "        buttonEl.style.display =\n",
              "          google.colab.kernel.accessAllowed ? 'block' : 'none';\n",
              "\n",
              "        async function convertToInteractive(key) {\n",
              "          const element = document.querySelector('#df-fcbacdbb-1415-489c-aead-2712500a2cbc');\n",
              "          const dataTable =\n",
              "            await google.colab.kernel.invokeFunction('convertToInteractive',\n",
              "                                                     [key], {});\n",
              "          if (!dataTable) return;\n",
              "\n",
              "          const docLinkHtml = 'Like what you see? Visit the ' +\n",
              "            '<a target=\"_blank\" href=https://colab.research.google.com/notebooks/data_table.ipynb>data table notebook</a>'\n",
              "            + ' to learn more about interactive tables.';\n",
              "          element.innerHTML = '';\n",
              "          dataTable['output_type'] = 'display_data';\n",
              "          await google.colab.output.renderOutput(dataTable, element);\n",
              "          const docLink = document.createElement('div');\n",
              "          docLink.innerHTML = docLinkHtml;\n",
              "          element.appendChild(docLink);\n",
              "        }\n",
              "      </script>\n",
              "    </div>\n",
              "  </div>\n",
              "  "
            ]
          },
          "metadata": {},
          "execution_count": 24
        }
      ]
    },
    {
      "cell_type": "code",
      "source": [
        "H=df['dialect'].value_counts()\n",
        "H"
      ],
      "metadata": {
        "colab": {
          "base_uri": "https://localhost:8080/"
        },
        "id": "HOZN_zn_h-1R",
        "outputId": "7c8f9927-9759-4192-c0c5-6b97ae7c88d1"
      },
      "execution_count": null,
      "outputs": [
        {
          "output_type": "execute_result",
          "data": {
            "text/plain": [
              "EG    57636\n",
              "PL    43742\n",
              "KW    42109\n",
              "LY    36499\n",
              "QA    31069\n",
              "JO    27921\n",
              "LB    27617\n",
              "SA    26832\n",
              "AE    26296\n",
              "BH    26292\n",
              "OM    19116\n",
              "SY    16242\n",
              "DZ    16183\n",
              "IQ    15497\n",
              "SD    14434\n",
              "MA    11539\n",
              "YE     9927\n",
              "TN     9246\n",
              "Name: dialect, dtype: int64"
            ]
          },
          "metadata": {},
          "execution_count": 25
        }
      ]
    },
    {
      "cell_type": "code",
      "source": [
        "#convert column of dataframe (id) to list to be fed after that into post fun.\n",
        "colm1=df.loc[:,\"id\"].tolist()\n",
        "len(colm1)\n",
        "#type(colm1)\n",
        "#str(colm1[1])"
      ],
      "metadata": {
        "colab": {
          "base_uri": "https://localhost:8080/"
        },
        "id": "LHRShYUUuS64",
        "outputId": "6e4bece4-798b-4368-bee0-344839a227ba"
      },
      "execution_count": null,
      "outputs": [
        {
          "output_type": "execute_result",
          "data": {
            "text/plain": [
              "458197"
            ]
          },
          "metadata": {},
          "execution_count": 26
        }
      ]
    },
    {
      "cell_type": "code",
      "source": [
        "#feed the list items (list of strings) to get dictionaries of texts.\n",
        "import requests\n",
        "import random\n",
        "import time\n",
        "#To generate same random numbers each time you run the program\n",
        "random.seed(12345)\n",
        "list_of_texts=list()\n",
        "current_time = time.time()\n",
        "\n",
        "# I will take only 1000 text samples from the whole dataframe.\n",
        "for i in range(0,500):\n",
        "  random_num = random.choice(colm1)\n",
        "  r=requests.post('https://recruitment.aimtechnologies.co/ai-tasks',json=[str(random_num)])\n",
        "  #print(r.status_code)\n",
        "  h=r.json()\n",
        "  #print(h)\n",
        "   \n",
        "#print(type(r))      ............ # request response\n",
        "#print(type(h))      ............ # dictionary\n",
        "\n",
        "#convert the 'values' of dictionaries to list to convert this list after that to dataframe\n",
        "  list_of_texts.append(list(h.values()))\n",
        "print(len(list_of_texts))\n",
        "print(list_of_texts[2])\n",
        "final_time = time.time()\n",
        "print(final_time-current_time)\n"
      ],
      "metadata": {
        "colab": {
          "base_uri": "https://localhost:8080/"
        },
        "id": "zmAwSp9-tb8q",
        "outputId": "6d06168e-74e2-4611-9fa0-12b68cc3ef66"
      },
      "execution_count": null,
      "outputs": [
        {
          "output_type": "stream",
          "name": "stdout",
          "text": [
            "500\n",
            "['@AwaTefDz_23 @Treasure_of_Dz 😍 هاو ليك الاخبار لي تفرح جاب ربي ماتزوجناش ههههه نجمعو المال و نسافرو نصيدو بقلاوة 😁 كيما هذا 👇 https://t.co/lzk04PhKX5']\n",
            "25.667775869369507\n"
          ]
        }
      ]
    },
    {
      "cell_type": "code",
      "source": [
        "#Convert list of texts to dataframe of 500 text samples\n",
        "df1 = pd.DataFrame(list_of_texts, columns = ['texts'])\n",
        "df1\n"
      ],
      "metadata": {
        "colab": {
          "base_uri": "https://localhost:8080/",
          "height": 424
        },
        "id": "ayx6Ktjt4H9D",
        "outputId": "3546e5ff-aebc-41f1-eeae-da31d1507316"
      },
      "execution_count": null,
      "outputs": [
        {
          "output_type": "execute_result",
          "data": {
            "text/plain": [
              "                                                 texts\n",
              "0    الله يحرقك بجاز ي عرة الرجالة .. لأ عرة الذكور...\n",
              "1         @shaqsi_zaher88 هذيلا نسمع عنهم بس ما نشوفهم\n",
              "2    @AwaTefDz_23 @Treasure_of_Dz 😍 هاو ليك الاخبار...\n",
              "3    العاهات\\n\\nالي يحطون فرص صلاح وغيره\\nويكتبون ل...\n",
              "4              @alla_775 انا بصحى بدري عشان اصنع مجد 😎\n",
              "..                                                 ...\n",
              "495  اسمعو ياشيعه اسمعو ياسنه كيف يستهينون بكمhttps...\n",
              "496  @gsaanae @dalloolkh @Ihab_Amir هههه باينة المم...\n",
              "497        @knowwhathappend  تي ماهو حفتر عنده كاريزما\n",
              "498  @Lilly__noir عقلي 😍😍\\n\\nتو بيعلق محمد ايقول وت...\n",
              "499             @Hitman_RM إذا ننتظر تشريفك طويل العمر\n",
              "\n",
              "[500 rows x 1 columns]"
            ],
            "text/html": [
              "\n",
              "  <div id=\"df-e16a61ea-fd2f-47f8-a48d-8a0189128c44\">\n",
              "    <div class=\"colab-df-container\">\n",
              "      <div>\n",
              "<style scoped>\n",
              "    .dataframe tbody tr th:only-of-type {\n",
              "        vertical-align: middle;\n",
              "    }\n",
              "\n",
              "    .dataframe tbody tr th {\n",
              "        vertical-align: top;\n",
              "    }\n",
              "\n",
              "    .dataframe thead th {\n",
              "        text-align: right;\n",
              "    }\n",
              "</style>\n",
              "<table border=\"1\" class=\"dataframe\">\n",
              "  <thead>\n",
              "    <tr style=\"text-align: right;\">\n",
              "      <th></th>\n",
              "      <th>texts</th>\n",
              "    </tr>\n",
              "  </thead>\n",
              "  <tbody>\n",
              "    <tr>\n",
              "      <th>0</th>\n",
              "      <td>الله يحرقك بجاز ي عرة الرجالة .. لأ عرة الذكور...</td>\n",
              "    </tr>\n",
              "    <tr>\n",
              "      <th>1</th>\n",
              "      <td>@shaqsi_zaher88 هذيلا نسمع عنهم بس ما نشوفهم</td>\n",
              "    </tr>\n",
              "    <tr>\n",
              "      <th>2</th>\n",
              "      <td>@AwaTefDz_23 @Treasure_of_Dz 😍 هاو ليك الاخبار...</td>\n",
              "    </tr>\n",
              "    <tr>\n",
              "      <th>3</th>\n",
              "      <td>العاهات\\n\\nالي يحطون فرص صلاح وغيره\\nويكتبون ل...</td>\n",
              "    </tr>\n",
              "    <tr>\n",
              "      <th>4</th>\n",
              "      <td>@alla_775 انا بصحى بدري عشان اصنع مجد 😎</td>\n",
              "    </tr>\n",
              "    <tr>\n",
              "      <th>...</th>\n",
              "      <td>...</td>\n",
              "    </tr>\n",
              "    <tr>\n",
              "      <th>495</th>\n",
              "      <td>اسمعو ياشيعه اسمعو ياسنه كيف يستهينون بكمhttps...</td>\n",
              "    </tr>\n",
              "    <tr>\n",
              "      <th>496</th>\n",
              "      <td>@gsaanae @dalloolkh @Ihab_Amir هههه باينة المم...</td>\n",
              "    </tr>\n",
              "    <tr>\n",
              "      <th>497</th>\n",
              "      <td>@knowwhathappend  تي ماهو حفتر عنده كاريزما</td>\n",
              "    </tr>\n",
              "    <tr>\n",
              "      <th>498</th>\n",
              "      <td>@Lilly__noir عقلي 😍😍\\n\\nتو بيعلق محمد ايقول وت...</td>\n",
              "    </tr>\n",
              "    <tr>\n",
              "      <th>499</th>\n",
              "      <td>@Hitman_RM إذا ننتظر تشريفك طويل العمر</td>\n",
              "    </tr>\n",
              "  </tbody>\n",
              "</table>\n",
              "<p>500 rows × 1 columns</p>\n",
              "</div>\n",
              "      <button class=\"colab-df-convert\" onclick=\"convertToInteractive('df-e16a61ea-fd2f-47f8-a48d-8a0189128c44')\"\n",
              "              title=\"Convert this dataframe to an interactive table.\"\n",
              "              style=\"display:none;\">\n",
              "        \n",
              "  <svg xmlns=\"http://www.w3.org/2000/svg\" height=\"24px\"viewBox=\"0 0 24 24\"\n",
              "       width=\"24px\">\n",
              "    <path d=\"M0 0h24v24H0V0z\" fill=\"none\"/>\n",
              "    <path d=\"M18.56 5.44l.94 2.06.94-2.06 2.06-.94-2.06-.94-.94-2.06-.94 2.06-2.06.94zm-11 1L8.5 8.5l.94-2.06 2.06-.94-2.06-.94L8.5 2.5l-.94 2.06-2.06.94zm10 10l.94 2.06.94-2.06 2.06-.94-2.06-.94-.94-2.06-.94 2.06-2.06.94z\"/><path d=\"M17.41 7.96l-1.37-1.37c-.4-.4-.92-.59-1.43-.59-.52 0-1.04.2-1.43.59L10.3 9.45l-7.72 7.72c-.78.78-.78 2.05 0 2.83L4 21.41c.39.39.9.59 1.41.59.51 0 1.02-.2 1.41-.59l7.78-7.78 2.81-2.81c.8-.78.8-2.07 0-2.86zM5.41 20L4 18.59l7.72-7.72 1.47 1.35L5.41 20z\"/>\n",
              "  </svg>\n",
              "      </button>\n",
              "      \n",
              "  <style>\n",
              "    .colab-df-container {\n",
              "      display:flex;\n",
              "      flex-wrap:wrap;\n",
              "      gap: 12px;\n",
              "    }\n",
              "\n",
              "    .colab-df-convert {\n",
              "      background-color: #E8F0FE;\n",
              "      border: none;\n",
              "      border-radius: 50%;\n",
              "      cursor: pointer;\n",
              "      display: none;\n",
              "      fill: #1967D2;\n",
              "      height: 32px;\n",
              "      padding: 0 0 0 0;\n",
              "      width: 32px;\n",
              "    }\n",
              "\n",
              "    .colab-df-convert:hover {\n",
              "      background-color: #E2EBFA;\n",
              "      box-shadow: 0px 1px 2px rgba(60, 64, 67, 0.3), 0px 1px 3px 1px rgba(60, 64, 67, 0.15);\n",
              "      fill: #174EA6;\n",
              "    }\n",
              "\n",
              "    [theme=dark] .colab-df-convert {\n",
              "      background-color: #3B4455;\n",
              "      fill: #D2E3FC;\n",
              "    }\n",
              "\n",
              "    [theme=dark] .colab-df-convert:hover {\n",
              "      background-color: #434B5C;\n",
              "      box-shadow: 0px 1px 3px 1px rgba(0, 0, 0, 0.15);\n",
              "      filter: drop-shadow(0px 1px 2px rgba(0, 0, 0, 0.3));\n",
              "      fill: #FFFFFF;\n",
              "    }\n",
              "  </style>\n",
              "\n",
              "      <script>\n",
              "        const buttonEl =\n",
              "          document.querySelector('#df-e16a61ea-fd2f-47f8-a48d-8a0189128c44 button.colab-df-convert');\n",
              "        buttonEl.style.display =\n",
              "          google.colab.kernel.accessAllowed ? 'block' : 'none';\n",
              "\n",
              "        async function convertToInteractive(key) {\n",
              "          const element = document.querySelector('#df-e16a61ea-fd2f-47f8-a48d-8a0189128c44');\n",
              "          const dataTable =\n",
              "            await google.colab.kernel.invokeFunction('convertToInteractive',\n",
              "                                                     [key], {});\n",
              "          if (!dataTable) return;\n",
              "\n",
              "          const docLinkHtml = 'Like what you see? Visit the ' +\n",
              "            '<a target=\"_blank\" href=https://colab.research.google.com/notebooks/data_table.ipynb>data table notebook</a>'\n",
              "            + ' to learn more about interactive tables.';\n",
              "          element.innerHTML = '';\n",
              "          dataTable['output_type'] = 'display_data';\n",
              "          await google.colab.output.renderOutput(dataTable, element);\n",
              "          const docLink = document.createElement('div');\n",
              "          docLink.innerHTML = docLinkHtml;\n",
              "          element.appendChild(docLink);\n",
              "        }\n",
              "      </script>\n",
              "    </div>\n",
              "  </div>\n",
              "  "
            ]
          },
          "metadata": {},
          "execution_count": 29
        }
      ]
    },
    {
      "cell_type": "markdown",
      "source": [
        "#Processing\n",
        "\n",
        "\n",
        "\n"
      ],
      "metadata": {
        "id": "lY3LpuOejtyP"
      }
    },
    {
      "cell_type": "code",
      "source": [
        "#remove emojies  #remove English alphabets  #remove dots  #remove special characters  #remove what after @ #remove links\n",
        "'''In short:remove anything except arabic letters '''\n",
        "import regex as re\n",
        "def processing(text):\n",
        "  #remove  english special characters / non alphabets:\n",
        "  processed_text=re.sub(r\"[^\\ئ ا-ي\\ء\\آ]+\", ' ', text)\n",
        "  processed_text\n",
        "  return processed_text"
      ],
      "metadata": {
        "id": "NHxkMowRjvQ0"
      },
      "execution_count": null,
      "outputs": []
    },
    {
      "cell_type": "code",
      "source": [
        "#Process the 20000 text samples you have.. loop on all texts to process them and have processed version of texts\n",
        "list_of_processed_texts=list()\n",
        "for ind in df1.index:\n",
        "     processed_text=processing(df1['texts'][ind])\n",
        "     #append them to a list\n",
        "     list_of_processed_texts.append(processed_text)\n",
        "print(list_of_processed_texts)\n",
        "\n",
        "#Take only 20000 samples of original dataframe (df) and put it to new dataframe (new_df)\n",
        "df_new=df.head(500)\n",
        "#append this list to the updated dataframe  (df_new)\n",
        "\n",
        "\n",
        "df_new['processed_texts'] = list_of_processed_texts\n",
        "df_new"
      ],
      "metadata": {
        "colab": {
          "base_uri": "https://localhost:8080/",
          "height": 579
        },
        "id": "1X59CimJOmT6",
        "outputId": "6fe0e30a-45ea-47db-c90f-b152a378d1cf"
      },
      "execution_count": null,
      "outputs": [
        {
          "output_type": "stream",
          "name": "stdout",
          "text": [
            "['الله يحرقك بجاز ي عرة الرجالة   ل  عرة الذكور   ل  اشك ف دي كمان    ', '  هذيلا نسمع عنهم بس ما نشوفهم', '      هاو ليك الاخبار لي تفرح جاب ربي ماتزوجناش ههههه نجمعو المال و نسافرو نصيدو بقلاوة   كيما هذا    ', 'العاهات الي يحطون فرص صلاح وغيره ويكتبون لو مسجلها جان وجان وجان الموسم طويل وهلامور تحصل بنهايه مو مكتوب لهم الدوري برافو ليفر والله هيبه خليتو كل فرق الدوري ضدكم ليفربول', '  انا بصحى بدري عشان اصنع مجد  ', 'في صفحة لها   سنين شغالة   ما بتنزل الا منشور واحد باليوم  وكل يوم نفس المنشور ونفس الصورة فقط لا غير  الغريب   ', '  البقر في كل مكان مش بس في الريف الاسكتلندي', 'بخاااااف اس ل عليك الناس وسر الريده بينا تذاع   حلفتك بربي بالريده البينا   قول ليه كلمه عيدية تريح حالي', '       و يمكن ده واحد  لدغ بيقول كلمة بوكيمون    ', '                      يارب احفظ واحمي امة محمد يارب', 'يعني طييير طييير و فالاخير  طيح مع واحد غيضربها بفرشاة الاسنان  ', 'كل فترة يطلعلك حد يبوظلك حياتك ويمشي ويروح يبوظ حياة حد تاني وانت تحاول ت    فا تروح تبوظ حياة حد تالت  اتطمن يعني كلنا حياتنا بايظة', ' حياتك حظ  براهيم مع البرايم مو حلو ابدااا اول مرة ضحو فيه اصحابه و لما رجع و في ليلة البرايم توفى والده الله يرحمه ك ن ربي مو كاتب له الاستمرار و خاصة  نه كبير  ولادهم', 'ناس  مامصوتينش و  مامقاطعينش النقاش فالفضاء الافتراضي مزيان  ولكن ماتنساوش باللي هاذي انتخابات محلية ماشي   ', '  هههه والبكي ليه طيب', 'بس   سنة والله صغيرة لسا  ', '  ما صرلي زمان بتابعها بس يظهر انها شخص متواضع و حلو و تغريداتها رايقة و غلب ال حيان لذيذة جدا ', '  اه اكل طبعا ده س ال  الس ال يكون منين ', '  عزميها ع كوفي بعيد عن البنات و جلديها بالخيزرانه لين تحب التراب و اذا خبرت عليج الشرطة ترا انا ماليه خص ', '  الظاهر شاربين نوع مغشوش  ', '  موفق يا محمد امام اكيد حيكسر الدنيا ان شاء الله  ', '  ايه صحيح مبارح  ما بعرف ليه قلت من يومين   قوية كانت منو هدية الناضور  اربكو لحنكش ههههه', 'حسب ماسمعنا ان اللي انفصلو راح يعيدون الامتحانات له مع الدور الثاني راح يقر الوزير يوم الخميس القادم الخبر للمفصولين', '  هالحرف مو عربي  لانه مو ق ولا ج المفروض ينكتب توه ت', '  واكيد ترامب بيستخدم الفيتو وعليها', ' بتزكر  حلى مقطع من هادا المشهد كلو لما س لها لكان شو بدك حيرتيني   وردت عليه  بدي  نك تهتم فيني   شو انا عم اطلب المستحيل    ', '  ممكن جدا   بس يبيلها شوية صبر  ', 'البعد و ظروف الزمن هدت الحيل  و غير الصبر ما فيه للشخص حيله  اللي بقى شعر و قصيد و سهر ليل  بعـض الامـانـي ياعـرب مستحيله ابيات', 'عزيزاتي متابعاتي المخفيات   اسمحوا لي ما جيتكم اليوم   بس فاجئتوني ياللي تتابعوني بصمت    امهات الدواهي', '  شيش محدش ماخد من هالحياه حاجة وهيا الاشي الوحيد يلي ببسطنا  ', '  مش لما نعرفهن عملة اي دولة الاول  ', 'ياربايع بعرض بسيارتي واطق بوري', '  ولما تنتحرى هنخوف العيال بمين', '  ماراح يقصر وياكم ابشروا بس ياخذ ضرائب على كل كتاب تقراه وحتمال يخصخص الثقافه شلون ماادري بس المهم اكو فلوس ودمار بالعافيه عليكم شوفت المهيوب', 'مش قادرة   مش قادرة اوقف تفكير مش قادرة امرق هاي الصدمة مش عارفه اعمل اشي بتهرب من كلشي بيجي الليل وبنهار فيه من العياط ليش انت  ليش تيقتلولك احلامك ليش تيقتلو هاي الضحكات ليشش ليشش', '  على قلبهم مثل العسل كل يوم مطلعين عليهم هشتاق   ولا عندهم دقه  ', '  ياخي احنا في حالة توقعات من ما اتولدنا  لو ما شفنا بي عينا دي بقينا مابنصدق', '    تخيلوا معاي للحظة لو تعاقدنا مع بوغبا بنفس قيمة صفقته وفشل مثل فشله مع البانيو   اتوقع هذول الجماعه يصيروا يشجعوا واتفورد  ', 'الهنغاري اللي يضله يعملي لايك ارحمني', '  والله شي حلو انه يكون في طوش ونكشات  راس علي الضمان نيالها', ' خليني ساكته  حسن تقريبا  بعد هالجملة بينحكى كلام و فضايح و مواضيع بعدها بتخرب عالم  ', '  الرجال اللي قبلك ماسووها انت تجي بتسويها ياالياهل  ', 'بيعرف صحابه ع بعض   بيلاقي نفسه برا المجموعه الشمسيه  ', 'الله الرازق انا   نعمه تستاهل الحمد ههههه  ', '  ههههههه توقعت بلوك  بس زين شكلها هدت الامور من صوبج', 'حشيم عن تبع المدانيس   ', '   طيب والدغبوس اللي خلفكم ذا    جامله بكلمه  بحرف بنقطة طيب  ', '  جميلة بسم الله عليها هههههههه', '  عنا بعكار كل اسم سحر بيقولولو كرمال عيونك العالم نتحرك فهمتيني يا سحر', '    عندو حساب عالتويتر  طالما مافي يفتح نيعو', '  ماتسطحش الامور بتكلم جد اغلب الاطفال ومنهم ولاد اختي بيطبقو الكارتون الي بيتفرجو عليه وبعدين توم وجيري اسلامي ازاي  ', '  من برات كيسك يا مذري ذري وانا كمان بس بقول', '  يا ست زينة انت اكبر من هيك و الي عم يصير عيب بحق كل لبنان  العماد عون و نبيه بري قامتين كبار و مت كد رح يطلعو من ال زمة قريبا', 'في السما بشوفك لما الدنيا بي ا تضيق   وفي الليل بحكيلك عن كل  قديم وجديد ', '    ترى لسا فيني صبر كان جلدتك جلد  ', 'اللي ماجاش ليبي فاته الهم والحزن والعجز والكسل والجبن والبخل وغلبة الدين وقهر الرجال ', '  كفو عليكم اصليين واصيلين  البحرين  الرفاع  لمحرق هاي الروح الرياضيه اللي لازم نتعلمها', '      ليش اخبرهم  انته تناقش والا تضارب   عطوه والا لا   هذي اختيارات المدرب  وهذي وجهة نظري مب مجبر تقتنع فيها  ', '  عاشت ايدك على هل مثل بمحله', 'هتقول ظروف  قل ة فضا و الدنيا وخداك  مش كده ', ' ضربني وبكى سبقني واشتكى اللي ايده بالمي مش زي اللي ايده بالنار  القرد بعين امه غزال  النوم سلطان  ما طار طير وارتفع  لا و عراسو وقع الوقت كالسيف ان لم تقطعه  قطعك العلم نور والجهل ظلام الجمل ازا طاح كترت سكاكينه ال يد لوحدها بتسقفش المية بتكذب الغطاس  ', '    يعني كل واحد ما عاجبه جبران ونهجه وخطه صار ازعر وداعشي   عيب هل الحكي   جيجي جاي بصفة حزبية فيه ناس معه وناس ضده  الدعشنة هي برفضكم للاخربن ينتقدوكم', '    كاتب بالبايو عاشق لمدحت شلبي من سنه', 'مين حيكون بمهرجان الحمرا اليوم    ', 'هذي سما ولا جبر خاطر    ', '  اي والله تلج وخصوصا  بالليل ازا عنا بالجنوب وهيك كيف يلي ساكنين عالمرتفعات  ', '                                                           حلى صباااااح  دااا ولا  يه صباحك هنا وسرور حسن وكل المنشن الجميل   ', '  هل كيف يصير غش بالتجارة  ', 'شهر   هو موسم الدبان و ي فهكاني هتلاقوا  طنان من الدبان عنده  اشتروا الفاكهة من اي هايبر  نضف كتير والسعر مش فارق  خاصى كارفور', 'اتوقع بتقولون الصدق والا    ', '    لا شغال ع ال يفون  ', '  الشعب كله ماراح وانا احسب انا الوحيد اللي مارحت  ', '  الله يكبرلو حظو مع المستر نضال ل يوصل لاعلى الرتب و الوضعيات اللي بتليق في   والخاتم معو  ', '    حبيت  نكد عليكم ايييه منكدش  ', '  ههههه ااه قربنا نخلص مباركات   الله يبارك فيك  ', '    مظبوط  ما عشان كدة قلت  عتد نقطة معينة ', 'شو المشاكل كثرانه هالفتره    ', 'والله منا عارفة وقتيش حتسيبوا البنات بحالهم', 'لازم كل ما اسمع انا وليلي لكاظم يصير معي   ابن كلب ', 'شو هالجو الخايس  رك بوا مراوح تدز عند البحر تدز هالرطوبة', 'ياناس ياعرب يابشر  كتبو شي في تويتر مفيد للناس بدال ما تقولون منشن ما منشن ونقطة و شوف حسابك فخم  و لا المسئلة انتم فاضيين وما عندكم شغله والله حسيت تويتر حديقة مليانه بالصغار   بس ما  نسا ب نه عندي  متابعين محترمين و تمنا  شوف تغريداتهم كل يوم  ', '                      محمد بن زايد داااااعس عرقاب الاخونجية دعس  ', 'بكبوكي ع الحطب  الطعم ياخذك الي غاديكي  ', 'تقصد الناس اللي بتتعاطي الهبل    ', 'لو العب لو اخرب الملعب لو فالح ابو العمبه لو ماكو حكومه قرارنا عراقي', 'يعني في اكاونتات بالانستقرام يمكن تصكر لانه هذا شغلها  ', 'ههههه بعد ارتفاع اسعار الزقاير  باجي يل حبيب  ', 'حتي الطموح رزق مش لازم كل الناس تبقي شايفه  حلامك مبهرة كل واحد بيعافر ف حياته هو وبس متستهلكش نفسك انك تثبت للناس نجاحك اشتغل واسعي ف طريق الحاجه الي بتحبها ومتفكرش غير  ن الحاجه دي ترضي ربنا وتسعد روحك غير كده ولا يهمك اي حاجه', '  عليج باللهجة المصرية  المنقذ الدائم لج  ', 'ياليل  يا مستودع ال سرار يا موج  الظنون ', 'اضغط لايك وشوف شنو راح يصير   حركة لطيفة والله    ', 'س ال فني  عندي فيديو صورته على جوالي ولما نقلته ع جهاز اللابتوب طلع بالمقلوب   حد عنده فكرة كيف ممكن  عدله   ل نه ضروري لازم  عرضه', '  رح يتبهدل وان شاء الله يتعلم', ' النصر السد دوري اسيا طبعا   هنا ينتظرون خليل جلال    ', '    ابشر ب     بس مدد لي الت مين ل   توني بالبداية مدري  يكتمل المطار ', '  اولا   نا  م نواف مو  م محمد  ثانيا   البرستيج عند الكل صاير  وثالثا   ناقشني على  ساس فكري ور يي وليس لقبي ومن  كون', 'لما تشري ملابس   و بعدها ترجعها   الموضوع بسيط مجر د  نك تقول لـ صحاب المحل  السروال ما جاش مزبوط سامحنا خوي   ', ' نقشت هيدا الشب جنوبي مش رح تزبط معه بوحدة بدو مثنى وثلاث ورباع', '  الله يوفقك وتبدعي دايما ل جل الوطن وفنه', '  علاش تضحك والله اني مانحط فيه قليل', '  هلا طال عمرك صباح الرضا ', 'ههههههه  حته انت بعد    الله يعينك   عبالي بس بروحي تصيدني هالحالة   و الله لين علقت  غنية في الراس   حته الرقدة ما تييك   تقعد  تقلب طول الليل على لفراش يمين و يسار و  نت كله تغنيها   و كثر ما  تعو ذ من  بليس    لا عالقة و لا تبي تف    الله الم ستعان  ', 'شي وحدين هنا شفتهم غير باركين يباركو لعباد الله التكاتيب ديالهم', '  الله يلعن روح زايد بقبره', 'ما فيك ال نقاذ ولا البينقذنا دي الدنيا ما ب ارادتنا ولا السكة خطتنا ترانا ماشين في طريق  جباري اتجاه واحد ولزمن محدود', '    ياريت يا عمرو واحنا هنمولك بالسلاح', '              يالله زمروا كلكم علي تويتر  ', ' عطني المحبه كل المحبه عطني الحياه عطني وجودي  بغى وجودي  عرف مداه سمعني كلمه فيها حنانك تفرش دروبي فرحه عشانك و اغلى ال ماني عاشت في غربه يا عمر ثاني عطني المحبه عطني في ليل الي س شمعه و بسمة نهار عطني في ضياع العمر دمعه و س ك ه  و دار يتيع    ', '   في دارها تقشر في البصل وتغني ظلموه وقفوها على العمل ال علامي لمدة سنة  منعرش نحسها مريضة بالشيزوفرينيا', '  كل سنه وانتي طيبه', '        اقول تلايطو محد رمى لكم عظم ماقال اللا الصدق منو تركي الشيخ راعي قناة وناسه ودنفسه جعلكم تفدون الشيخ احمد الفهد', '    ماشفت شي ياخوك   توني الا قاعد  قرا الاخبار وشفت انكم مهزومين يا عبدو  ', '  الله يرحمه  ويحسن له والجنه مثواه بطل من بلادي ', '  بعض الناس تفكر انك تعرفهم وبعدين تكتشف انهم ناس غير الي تعودت عليه الله يبعد عننا هالناس', 'العسل ده بيصبح عليكم المفروض تخلى عندكم ده وتردو الصباح  ', '          الله ينتقم منك بحق كل كلمة   ويارب يسلط عليك عدو بنفس الوصف  ', '  نسال الله يحلي يامك وزهي يامك يااارب', '      حطت لي كريمات و بعدها تقشير و حكت البشرة بعدها بالجهاز زي الابر  ويطلع دم و اتعور و حاااار    بسال البنات احد جربه و كيف النتيجه', 'علي هالحال يلي عايشينه اعتقد عادت الجاهليه نبو فتوحات اسلاميه جديده  ', '    لاحظ شعار الحرس في الفيديو يا محترم', 'انا صاير هادي بآخر فترة ومبطل عصبي  ', '  تريد تعرف  ي حل  حل القرار الصبياني والكوارث اللي سببتموها لانفسكم نسيت عدد الجثث داخل التوابيت اللي وصلت الامارات من  اليمن نسيت اليمنين وال طفال اللي ما لهم ذنب وقتلتوهم نسيت الجوع والعطش اللي بسببكم صار حال اليمن هذا من غير انتشار الامراض ونقص الادويه وانعدام التعليم والدمار  ', 'وقتلي تقلها  محلاه  التاتواج في ساقك     و تجاوبك بكلها خجل و حشمة و مكسوفة   و كذا    لا هاذوكم      شيري      ', '    بعده ما ضاحك الخريف', 'انا اودين انت تودين نحن نودين ياخييي وبعدين', '  الحمد لله تسحرت ساندويش جبنة  ', '    حنا نقول وين الكرت ال حمر طلع الحكم ماحسبها فاول بال ساس  ', 'نفس المكان اللي جمعنا قبل عام  حطيت من عطرك و جيته لـ حالي  ', 'اهم شي نخيتوا هههههههههههههه  ', ' وينك ترا قلبي من الشوق مليان  حتى عيوني ودها في عيونك  ', 'مليتت وقرفت وحسبي الله   بالعربي', 'منستهلك كل مشاعرنا للشخص الغير مناسب   ووقت بيجي الشخص المناسب بتكون انت تعبت ومشاعرك بردت ومو قادر تتقبل حدا  حقيقه يجب ادراكها', '  طقم خوال وذبحتني النظارات خفوا علينا شوي', 'اذا جيتي  استاهلك بالحيل اذا كان ماتبغين حره  ', '  خلك معاها وبلاها فلسطين خلها مع الصهاينه', 'الله الله   صار الفارق بين كريستيانو و ميسي    هداف فقط بالليغا  ', 'واللون على اللاعبين اللي ما يحسون ب دنى مس ولية  ', '  انت للحين عايش الدور ومفكر نفسك محلل ومفكر عبقري سبب تعاسة العرب اشكالك والاستحمار ال وربي ل مثالك ب سم الديمقراطية', '    ش د عتي   نت  حمودي   جبت شريط شنو      هو ض ل شريط بعد    لمسة  صبع على اليوتيوب تطلع ر ي ا وسكينة وحتى خالتي صبرية', 'يعني ادخل لبنت احكيلها انتي بتنزلي الرمال عشان انا بنزل كتير هناك و اشوف النتيجة    ', 'هو فعلا يا جماعة واضح ان   كلها هتخلص في شهر ستة  رمضان و عيد و امتحانات و كاس عالم و لسه ماخلصش ابن اللعيبة', '      بالعكس  هذا الاسلوب يعلمهم ان يعيشوا انفراديين  وهذا اللي يدمر  الراي والمشوره للوالدين له دور كبير في تعزيز التواصل ', '  الرخيص يبقى رخيص يامرتزق', '  كانوا جاوبونا على عارهم بداية من ليبيا و دخول السلاح عبر جرجيس وصولا لسورية يا محمد الباجي نسى منظمة التحرير وحمام الشط نسى الدم وذكرى الشهيد اليوم في الجزاير نسى وعوده في الانتخابات وقت قال باش يبعد تونس الماكسيموم عن سموم المحاور والا مشية الباشطبجي مافي بالوش بيها ', '  سلامات للوالدة  الف سلامة', '  ايه و الله يا ابو الحبايب   نحنا الشعب المعتر بلبنان عم ندفع دم قلبنا على البنزين   و بيجي حاكم مصرف لبنان بقلك بدو يزيد   على البنزين كرمال ال سكان  احكي معون و الله ما بصير  بيسمعوا كلمتك خاصة هيدا صهر الجنرال', 'ربي يفك عوقك يا اخوي عبدالله  عبودكا  احنا نتمنى واحد مثلك في ديرتنا   تعال عندنا و احنا مستحيل نزعلك   انت ما غلطت اصلا  عشان احد يحاسبك بس شنقول هاذي ضريبة النجاح  ربي يحفظك و تطلع لنا بالسلامه  ', 'جهاد النفس ده فعلا  سو  من  ي  زمة تانية ممكن تمر بيها في حياتك بمراحل   ن دماغك تبقى متسلطة عليك ده عذاب ابن تـــيـــت  ', '  خير من ليبيا كلها مشكله نقولو ع ناس الي عندنا حيوانات وحيوانات افضل منهم', '  الوضع ولا النظام حداااا مخربط ما يضير جذي  ', 'بوست سرقته من شوي شوفو التعليقات  ', '  اسد من يوم يومك', '  كان نفسي  عد النجوم و نا صغيرة  كل ما  جي  عدهم ويكون معي حدا كان يكذب عليا ويقلي رح يطلعلك ثآلول و خاف و بطل  عد  ', '  ياسلام عليك على كل رتويت منك', 'قرفان لدرجة اني مو طايق اعمل شي', '    مافي احد مبلكني انا  ', '  كان اتشوفيه حتى هو شنو يصير فيك', '  يا استاذ يزبك الناس صارت واعيه ماحدا يقدر يضحك عليها خلص كل انسان قالو ورقه بس تسقط ورقتو كل بيتفق على قتلو  هيك حال كل عميل يتفق على تدمير بلدو يقبض عليها نهايتو القتل مافي شي غريب', '    من الجوع مشهو من شيء ', '  مش اخوان بس دي  عقيده راسخه عند اغلبهم الا  القليل', '  الحمد لله انا كده اتطمنت    ', 'اه ناسية اسمها ووين شفتها ووين تعرفت عليها ولله هيك بصير معي    ', '  لازم نعلم ابنائنا انهم يفضفضو  بدون خوف', 'مثلي لما اكون سامعه اغنيه بمكان ما  وبدي ارجع اسمعها بحاول اتذكر الكلمات واجرب لما اطلعها  ', 'شوف هالحمار شو يقول  ', '  مفحالهومش مساكن كيتسناو تعطيهم الدولة ولا شي جمعية تدخل ', '  شكله رونالدو وراهم   اي اهم شي البرازيل  ', 'شنو تحس فيه اخوي كل يوم لك بارض تستشور شعرك  ', '      رحت اشتريها امبارح لقيتها ب  ج ولاول مره من سنين اروح اصرف دوا م الت مين يقولولي مافيش اي دوا ف اضطريت اشتري باقي الدوا كله من بره ده كلامه علي فكره الراجل ده بيستهلك  علب من دوا السيوله ده شهريا ملف الصحه سئ جدا والوزيره دي من اسو  وزراء الصحه بجد ', '  صراحه اتمنى اياكس ياخذ اللقب   لكن برضو القلب يميل ل رونالدو ', 'العمر  قصر بكتييير من  نك تعيشه مخاصم حد او زعلان من حد او حتى عارف ان حد زعلان منك وانت مكسل تصالحه او مستنيه هو اللى يصالحك   حاول تخلص اللى عليك  ول ب ول والله   متستناش لحد مايجى اليوم اللى تندم فيه ع حاجه كان نفسك تقولها وملحقتش او حاجه كان المفروض تعملها وكسلت  ', '  والعلوج الامريكان شلونهم وياك  اهم شي مريحينك عله الاخر   ', 'كل المواقع الللي بحب فوت عليها مسكرة   طيب ليش  ', '  ايوة تمام  هى دى اللى بشوفها ماشية بعض ساعات جنبى على الطرق الصحراوية او غيرها وشايلة حجارة كبيرة جدا  ', '  راحو وشو بيضل غير الهم  ', '    ليه كبدة كلاب لولو عشره كتير', 'مكتوب عليا ابص لفوق و اجيب لقلبي شوق على شوق و الحلو دايما  حلو و ذوق يا حلو ياااا   يا حلو صبح  ', '     لا لاااااا لااااا لا تقووله تكفى قوول غير هالكلام احس ان قلبي راح يووقف', 'اللي قدمة ميليقان اليوم مستوى قليل تقول فيه كارثي   شيء مخجل اقسم بالله', '  الله يعين اللي يروح فرع الدمام  ', 'انت الرفيق اللي على الطيب ممشاك   وانت الاخو اللي تساوي قبيله كل الاصحاب مايجو احدك  انت ساعه وهما دقيقه كملنا حياتنا مستشفيات    ', '  هلق الخيانة صعبة وما بتتنتسى  بسهولة بس يللي بيكرهني بعطيه كاسة الماء كصدقة', 'حد يمنشنلي صفاء سلطان    ', ' ماذا تعرف عن دولة الكويت كنت اعرفها والحين ملامحها تغيرت كنت اعرفها يوم كانت باره بعيالها واليوم شكلها  دور ريل ونست اعيالها', '    حبيبتي مش هايحصل حاجه ابداااا دول عباره عن اي حاجه مالهاش لازمه خساره استعداداتك فيهم  ', '   هذا من ذوقك اختي', 'ممكن اضل طول اليوم باكلش ومش جاي عبالي بس الساعه تيجي   كل الاكل والحلويات اللي بالدنيا بتيجي عبالي ', '  ايوه كده احنا معندناش وقت  ', '  اسماعيل غير سمع سميتو طل او مشى قول غير سلام هههه  ', '    درنا حتي عيد كبيرة بروحنا جت علي هادي ', 'من هواياتي  زعل وما  قول ليش زعلانه وازعل زيادة اذا ما عرفوا ليش  ', '    يانذل العراق سوريا وليبيا راحت فدوه ترضى امريكا عنك  بس وين تروحون باجر يجيكم الدور ونعال الكاوليه تصير اغلى من دمك', '      كل الحوايج حلها بـــــس بيديك  تحلها لو صكها كـــــــل صكاك            عبدالرحمن بن فيصل   ', '  هلق بتكوني كسرتي القمحات كرمال تتصوري صورة بنص الحقل  وين  صحاب الارض  ', '  في تفاا ول استخدام بناتي  اشي نضيف يعني   صاحبو ما تفائل قبل هيك', 'قالك طالما البرص   ما شفش الشبشب  هيفضل فاكر نفسه تمساح    ', 'والله انه يستاهل جايزة على هذي الحركة    ', 'يبدوا ان القبض علي هشام عشماوي كان له ت ثير كبير  ادي واحد تاني زي احمد البحيري  نفس المفردات ونفس الافكار واضح ان الدول الكبري واللي بتمول عشماوي قلقانه من اللي هيقوله  فقرروا يضغطوا علي مصر  تاره بزيادة العمليات الارهابيه وتاره بالضغط علي السوشيال بامثال ه لاء   ', '   دخيل هالصووت نورت ياروح الرووح والله يعطيك العافيه ولايضعيلك تعب  نيالها  من دون ماتبين قصقص عنجد الله يصبر قلبي جمهوري وغوالي قلبي الغير شكل   ', '  انقلوها نبي نشوف فيكيو', '  و ال شطر هم اللي ما يركزوا  لا ع المهم    بووووووم', '   لي نازلين يغيروا صورهم و يحطوا صور ال علام التركيه هدول مو سحيجه ', '   لف  لف  لف مبروك تتربى بعزكم', 'منك لله يا هاري كين  ', '  معرفهوش ل  تردده كام ', '  موسم اخر للنسيان لجمهور الغرافه  قلناها مرارا مااح يتغير حال الغرافه مع الاداره الحاليه مهما سووا    الاداره اللي ما تفكر تجيب حارس عقب المهازل اللي حصلت من الحراس والدفاع  لا تتوقع انهم بيطلعون بنتجيه الموسم المقبل مبروك للاداره المنافسه لدخول المربع كهدف سامي  ', '  ب السياره كوكتيل الروايح ما بتنطاق ب حكومات السرطان', '  ده   تعريف العلمانية وطبعا في فرق بين التلاتة  انا اصلا ما قلت انهم واحد  انا بتكلم عن انه الما بقا ملحد بقا ما ديني والما بقا ما ديني بقا علماني وده كلو عشان يتخلص من تجربة الحزب الديني الاخواني الفاشلة ', 'انا بديش الاغنيه تعلق بمخي هلقيت انا بدي ااجابه الس ال اللي تعلق يارب ', '    ليست مفبركة  هدا فيديو مصور قول حتى هو مفبرك للعلم الصورة منقولة من حسب موقع تونسي اسمة شمس  ', ' يوم الترويه غاليه علينا المملكة و  ال سعود وجهودهم ف خدمة الحج معروفه والخير ل هل الخير بعد موجود يحفظون الحرم و الشر ما يلوفه  ', '    الحلو اللي بعمل لحسابه فولو ممكن يردها ', 'بستنا براتب اهلي ينزل اكتر منهم ', 'متى اخلص تعبت اذاكر من اسبوع  ', '  الموضوع كبير مش كلمة ولقب وخلاص دى تصرفات بتبان فى المواقف', 'انا لما بصحى من النوم بيكون هدفي انعس عشان ارجع انام  ', '  الله يسلمك حبيبي حبيبي عبوود  ', '  مع انه الموضوع ذو شجون لكن الروقان مطلوب   على فكرة هذي بروحة وجهة نظر   صباحك  ', '    اتفق وا لله اختي معاج   ع الاقل الريال ماوعد باشياء كلنا ندري والتجارب السابقه اثبتت ان مابيقدر يسوي شي منها', '  لو بغينا نصدق كلامكم ما يصير قصصكم تقول عنها فلم هندي شو دخلكم في شعب مرتاح مع حاكمه تريدوا تكون مشاكل غصب هذه بروحها سالفة خلك بالرياضة', 'فعلا مافيش هداف عند الالمان مانبيش استحواذ بدون اهداف شنو الفايدة  ', '  وهمه من شوكت الغرب يهتمون للولادات الغير شرعيه وكلهم غير شرعيين هنوب يتهمون الي يضحون بابنائهم من اجل عرض نساء  السنه وحنا الشرف', 'صباح الخير يا وطن نوخذاك حكيم والبحاره  عليميه متى يا ديرتي تقومين من سباتج ولنا تفرحين      متى ينزاح همج وتفلين الشعر ولنا تلفحين', 'عنبو داركم  نتوا مو كويتيين  شلون يصير هروبهم سهل شلووووووون  ويطلع الجحش يقول اي واحد نبي نجيبه', '  ايييييييه حراسهم اليوم سيء', '  عقده باقي له سنه والسعر رخيص بحكم الموسم الباقي له وصغر سنه وبس', '  كورتهم اكلت سمبوسه عشان كذا بطنها داخل الملعب  ', 'ما عارفة حتى شنو رسمتي  ', ' حيانا في ناس يسووا زحمة ل نه متقدمين ناس عن الزحمة ', '  ماهيش كاتبة و تونس اكبر من ماتش كورة ', 'تغيب نفسي مع حديث الجوارح  و لقى معاي بوحدتي سلوة الروح  لا صار هرج الناس موذي وجارح   نا بـليا مـاني بــناقــص جـروح', 'هدشي علاش قيس كان كايسكر بزاااف باش مايعقلش على كمارتها    ', '  هههههه ارحم نفسك مسيلمه الكذاب   والا قلتلي راس الخيمه هااا ', '  احنا عايشين بوسط ناس اغلبيتهم عقولهم متحجره يعشقون تقديس الاشخاص ويكفرونك اذا اختلفت عنهم وصرت حر', 'فن تجاهل كل شيء وعدم التعامل مع الناس وعندى فيلينج   معايا اليوم ده عشان النهاردة التلات  ', 'ف النهاية  مجبرين نتخلى ع الشي اللي نحبه ويمكن للابد                                      فشكرا  لك لانك اضفت شي جميلا في حياتي وانتهى ', '  لا مخك عايز فرمته زي الكمبيوتر ههههههه', '  و لو غوطت شويه و وصلت للخليج هتلاقيها اسمها مكوه', '  وهناك من يسهره مداوما   ', '  انا قريتها اوضح برضو', 'ليتني كل ما مر يت في باله دري  ن ي على باله  ومر يته جدا ', 'شعبك اللي يحبك مايبي غيرك    تميم قطر تتعذرك', 'لين مرني طيفك    ضمه حيل ب حضاني   وشلون  ذا جيت عندي   وشافتك عيني', '    ميهمهم شي  هذاكة تقليد  عمى للغرب بالك يرضاو عليهم', 'يا حبذا لو كان القانون يطبق دون مخالفه للقانون  الحق حق و الباطل باطل واللي نصه حق و نصه باطل مانسميه حق وان ما سميناه باطل فهو خط ', '      اذا  نتوا رجال ورونا صورة المخالفة بحق هل الدركي لنحترمكم ', 'لما تلاقي شخص متخلف   تفكيره محدود   و تربى تربية عادية جدا  من غير طموع   من غير موهبة  من غير تطوير ولا  دراك   ', 'المشكله ماكو مخ ماكو ذكاء متوفر الغباء بس ماكو خطط بس فلوس على قولت ترامب  ', '   نتو مو نفسيين بس انتو بتكذبوا ع نفسكو قبل ماتكذبوا ع غيركو الحياة مش مستاهلة قلوب حقودة خليكو طيبين شوية الطيبة هي رح تسعدكو ', '  هوي تقيل الدم وعايشيها شي بيخحل', '            اووووووو راحت عن بالي هالثنتين  تزوج', 'رئيس نادي الهلال خسر بطولتين هالموسم قال راح يبتعد عن الرئاسه تااااااااغيييييخ العغبييييييي', 'بنفس الثانيه بكتبلها عالتويتر لقيتها بتكتب لي عالوتس اب  سبهان الله   ', '    هذي تاكل ولا شنو', 'داخلة الصيدلية باقول للبنت محتاجة كذا و لقيتها  ت خرت فا بقولها بسرعة يا استاذة فا طبعا  اتحمقت و قالت لي  دكتورة  لو سمحتي  خخخخخخخ جل من لا يسهو يا دكتورة', '    ماشي كلهم بحال بحال', 'ال مارات  ميرهم مش قادر يحكم في مرته يبي يحكم في ليبيا تي واسعه هلبه عليك  رئيس شرطتهم وعلي  ساس محلل سياسي وهوا مديريه غريان عندها شرطه اكثر من  ماراتهم', 'واش ملاحظتوش قناة دوزيم  عندها تقريبا   ديال الوجوه نشوفوهم فالتمثيل فالتقديم فالاشهار وفعرض ازياء فالطبخ والمسابقات والغناء ووو باقي لهم غير شوية ويدخلو حتى فالمسلسلات التركية الحامضة لي كيعرضو كنظن راهم خدامين على الفكرة يشوفو كيفاش يديرو ليها هههههه', '  كل واحد ماشي ورا زعيم   ممنوع ينق عن وضع البلد و الوضع الاقتصادي والمعيشي  خلي زعيمك يطعميك و يعيشك زي ماهوي عايش  ', '  دايم يحفز الفرق على اضاعة الوقت ويخليهم على راحتهم حكم سيئ جدا  ', 'ضباط الجيش نفختو روسنا متبوش حكم العسكر اطلعو حطو القاضي و لا الجويلي و لا اي ضابظ من الناس النضيفة  قائد الجيش وانضمو معاه وشوفو وقتها المليشيات اتبعكم و لا لا', '  يالله نسمع شو المانع  ', 'هذي شفيها هي ماما ركزي   تراك قاعده تجيبين العيد الفاظ سيئه اسلوب سيء انحطاط غريب من سيده يفترض انها ام ومربية جيل   م ثرة ويتابعها الكثر وبكل بساطه الفاظ سيئه استهزاء بالناس وبظروفهم بجاحه تخليك تحمد ربي الف مره ان ربي عطاك قلب وعقل وانسانيه  ', '  اكيد شغله كبيره لانو انولدت فيه هيك انسانه عظيمه ', '  س ال بسيط  تقرا السب الي ينكتب لك ولا   ترى تعبت وانا اسبك   بس طمني انك تقراه لو سمحت', '  نام لحتى يجي الصيف', '    شوفت البوست واخدت بالى من الخرفان اللى اتطلقوا عليه وعلى فكرة جروبات سكان المدينة كمان مليانة ناس مش من السكان وشغالين طول اليوم بوستات اشاعات واحباط وبلاوى سودة على دماغهم', '  ملك ياخذ السفينة غصبا', ' زعيم تويتر فلورز شوكلاته شوكلاته  ', '    ليه كدة كنت فاكرة انه في الحج', ' الهلاسين بيقلشو و ينكتو خلاص كلكم بقيتو فلاسفة مش عارف الاقي نكتة تضحكنا', '    وانا محسوب ثوار وما لقيتش طحلوبة تردني للطريق ساعتها  ', 'اذا دايما غازي المطيري يكون جوه هيك حلو خسروه كل اسبوع ههههه خلاص  زد رصيدك ', '  ههههههههههههههههههههه دا ايه  كارثة لاتكوني جايبالي الصورة ع انها تعبر عن الحب  مش قلتلك حالة خاصة ههههههههههههههههههههههههههههههههههه', 'وانت راكب التران في المغرب تحس براسك راكب الكوتشي  فعلا خاصنا  ', '  ذكريات كله عقل و حزمه و وايرات تلفون البيت بو مترين   المفروض انا شهيد الحين ', '       اعمليها برافو خليهم قرعات  ', 'ك نو الناس نسيت موضوع الرواتب وبطلت تحكي فيه  ك نو الناس نسيت موضوع الكهربا وبطلت تحكي فيه ك نو الناس نسيت موضوع الحصار وبطلت تحكي فيه ك نو الناس صار كل همها  نو ما تفقد حد عزيز و غالي عليها ك نو الناس اتعودت تعيش حتى بدون ما تطالب ب بسط حقوقها  ك نو بطل في حياة بغزة  ', '   لا تكلمني انا حزين ', '  ترى هاي ابسط شي مكتوب متخيل مبالغ تتجاوز المليون رشاوي وراتب شهري   الف دينار ومسدس غير انهم حالفين على القران ما يخونوا بعض ووضاح اخذ   الف دينار لانه هو اللي هربه', '  يا زلمي  نت الوحيد بتويتر يلي بتشهيني ال كل ', '  عشان لما يصيرلهم اشي يحكوا حسدوووهم', '    انا راسي داش معاه', '    بخلص ب  شباط ممكن تحترمو مشاعري انت واختك', 'يمكن الناس كانت بتعديله ربنا يهديه عشان هو مجنون    ', '   شبيح بعد سقوط الاسد     القاشوش ابتعرفوا اللي   كان يبهدل ىسيادتو', 'ياتاخذون الصفات الي تبونها وتدرون راح تقدرون تتحملونها يا لاتتنازلون عن هالشي  ولازم تتفقون بادق التفاصيل من البدايه لان مبد كل شي بوقته وكل شي مع الزمن ينحل هذا افشل مبد  ممكن الواحد يمشي عليه وبسبته الناس تهد بعضها على اشياء تافهة  اخذوالشخصيه والطبايع الي تحبونها الشكل يتغير', '  جخ وا ولا تموتوا حزانا', '    العفو بس زعلته منك عشان بتضحك بالناس المخترعين', '  انا اسف ماعاد اعيدها  بس ايش هيا ', '                  الكون بداخلنا نيل ديجراس تايسون جسمنا', ' ذا موجود فلافل ضيف عليه فلفل وكاتشب   وبدون تفكير بعد', '  صدقينى لو كنت املك المال واعلم ان البنت اللى حنرتبط بها طامعه فى فلوسى حانفوتها  اخى عليه بنادم لما يبدا هكى تقول سلعة تباع وتشترى', '  الله يسامحك هاد اللي طلع معك    بدل ما تعزمني ع فطور', 'الصح انه يكمل لانه اولا ماشي كويس واخد بطولات قبل كدا وعنده خبرات محليه وافريقيه وادرى بامكانيات ومستوى اللاعيبه الموجوده    تاني حاجه المدرب اللي هييجي عايز وقت لنا يقف على مستوى اللاعيبه ويتعرف ع الفرقه وهيقولك ماتحاسبونيش على بطولات الموسم ده  ', '    هذه فزعة مدرسه كانت وانا مااقولك عشان تتودد حق حد وانت خلك من التجمع القبلي بس هم سووه حكومه انتقاليه مكونه من شيوخ من الاسرى الحاكمه يعني شي اعبر من التجمع الي ركزت عليه الداشر ناوينا ندري بس مايقدر يسوي شي', '   تعريف صالون النساء  هو عبآره عن اكبر برنآمج  فوتوشوب بالعالم     تدخل البنت كنها ددسن     وتطلع لكزس  ', '  فريق لازيو واجه فريق داخل ارضيه الملعب وماهو عارف شو يبي روما داخلين لاهم عارفين يبون الفوز ولا التعادل ولا الخساره مدرب حمار ولد حمار', 'شو قصة برنامج    اضافات سيئة من مجاهيل والحالة ', '  عاوزاه ييجي من امريكا يلحق مصر', '  جد والله ياوسع صدرك ماشاءالله ادري والله الدوري راح كله واحنا نضحك على بعض  ', '    اي والله ياحليلي بس ليش  ', 'بطلو هاشاجاتكم دي واتعلمو كل ماتعملو زنه المصريين يزدادو تماسك  كل ماتعوو وتنبحو المصريين يلتفو  كتر كل ماتشتموه كل مايحبوه اكتر مش هتتعلموه خيبه تجيب البطون اللي جابتكم احنا معاك يا سيسي  احنا معاك ياريس  ', '  صار عندي اكتئاب من وراهه  ', '  فرقتنا الاماكن والتقينا بمدينه ', '  والله وك ن الامارات هيه اللي مشاركة في كاس العالم  اليوم كانوا رجال في ارض الملعب    كلوا اليابانيين', '    ياخوي مصلعه بس يبون يشغلون جمهورهم', '         ان طقيتها اذا شفتها ترن يعني زينه', '  السيتي وباريس خربوا كرة القدم بفلوسهم', 'هذي المطبة باليابان  ذا مريت عليها تولد الطاقة والمطبة عندنا  ذا مريت عليها تولد زوجتك    ', '  ههههه لا لا ما نتصورش تغيب عليك هذي مريومة تفكرهم حتى بطرف خبز منفخة في الماء ولا ماء وحدو باش يشربو منو  ', '  الف الف مبروووك دكتور', '  وندور فالسيارة بلا هدف ونشرب كرك وكووووفي ونسمع اغاني وبس    ', '    ابداااع فائق    محمد عساف  ليالي الكويت', '  ريت من يتكلم عالديمقراطية ريت   الهادي الحويج بع وخلاص', 'اكل الهوا لما تلتغي بعد ماتنزلي وتركبي   ', 'صوت الغلا بخاطري قام يدعيك مدري سمعت الصوت  ولا نعيده الشاهد الله كم   عزك  نا و غليك رغم  المسافه والظروف الشديده ', 'انا كنت ناوية است ذن بس لل مانة ما لقيت المس ولة لذلك انسحبت انسحاب تكتيكي ومع نفسهم    ', '  كان ودي اس لكم س ال بس خفت تموت وحدة تجيها جلطة', '  برضو عندي صديقتي هكي    تحسيهم حاسين بالمس وليه من صغرهم وعندهم نقص حاد وحياتهم هلبا صعبه', '    محد يدري اشصار   يمكن كانو مصورين حمده السليطي   او سوو شيء غلط   مايندري   ننطر ونشوف', 'مرة شرطي مسك حرامي عالفيس بوك خده    ', '    بطي ال ربه وانتي شجاعه', 'المكابرة ع الغلط ما بتدوم ', '  لما تعرفي خبريني لكن البنت الي تهكرت وانتشرت صورتها والله عمرها غلطت لا في حنان ولا غيرها ادخلي حسابها وشوفي', '  طبعا بعرفه  وبيستاهل  كثر من هيك وصف  بس حافظا على  لسنتنا ما بدنا نزيد ', 'معكم من قلب الحدث    بالتريييييييس    احلمت ليبيا دخلوو فيها قولين   و بعدها نضت من الكاابوس   ', '  انا رحت مرة قبل الماتش ب   ساعات حس يت اني هموت  ', 'ايوة كده عشان مينفعش رئيس اقل من فريق  مصر ', ' احذفوا تيم الفلاسي بعض المرتزقه يقول تيم مسترجله  انزين اذا انتوا ع حد قولكم رجال ليش اميركم استعان بالاتراك يحمونه بدالكم والا انتوا  ', '  ايه بسيطة هني سبوا وبهدلوا السيد حسن بطريقة غير مباشرة  سهلة عندن يسبوا شيخ', 'غبنـي قربــه و في بعـده مغبـون من عرفته و هدوئي  يام ماضيـة سلمــت لجمالــه و لهـاك العيــون و البيـاض اللـي جيوشــه باغيــة وحشنـي مضنونـي باللـه تكفون رشة من عطره ترد فيني العافية عبدالعزيز الرويحي', '  جربت كل ال نواع  بس ما عم بوصل لمرحلة النافورة ', 'الشخص الي قريب من قلبك خله صديق لان عمر الصداقه اطول من الحب    ', '    عادي بيقبلوك وين المشكله يعني', '      هي دكمة لايك مو طلب ايد  ', '  والله شفني بغرفة المعلمين والطلاب فسحة ولا فيه تعليق', ' اوامر ملكيه  شو بلاها الجارة بتلحقها السعودية والبحرين زين مايدرون  ن بشار حليف ل يران  عشان تدرون ان دول الحصار كذابين  نقول مبروك لشريفة   ', '   بيستاهلوا البهدلة هالقرعان بعد ماشافوا شي ', '    وش دخل الطريفي  وش بيصير لا نقدنا قطر وايران وتركيا يخوي هذي القنوات والمحللين والصحف وتويتر و جيري ماهر يلعنون قطر وتركيا ليل نهار   مو موضوعنا  نرجع للامارات ياحبيبي', '  حبيبتي اسلام   اللهم اميين   والله يبارك الك باخلاقك ولسانك الفصيح وقلبك الكبير للاسف النصيحه ما الها مكان بالزمن تبعنا   ومتل ما قالت امي الزمن الي ما بيجي معك   روح معاه  ', '  انت مسجله في وزارة الاسكان ', '  بغل يعني مش ميزان', '  اللي بلوكاني كنرد عليه بالمثل', 'ثانيا الناس اللي بتقولي  انت ما تعرفش يعني ايه بايبولار بجد وانت بتهون من المرض و تحوله لنكتة   نا بكرر اني     وده مشكلته ال ساسية الاكتئاب  كلامي عن ال   لتعريف الناس بيها وتقريب الصورة ل ن ناس كتير بتظن ان عندها اكتئاب تقليدي شفيت منه  ثنائها  ما قللتش من معاناة حد', 'الله يرجع كل الحجيج بسلامة     جعل الدروب اللي توديك للحج  نفس الدروب اللي تـردك علينا   آميـن يارب العـالميــن  ', '  بهدلونا حسبي الله ونعم الوكيل فيهم', '  منار روحي نامي واصحي عدوامك   مع نقطه   ', '  الف سلاامة عليك يا فرااس   ماتشوف شر ان شاء الله', '  زين تحط وجهة نظرك  ولا ', '  احنا محتاجين نعرف اللغة والشعب بقى', 'التقاطة للسيلفي   حبيت المطعم ع جبل  بورصة اللي ممكن تشتري منه وتشوي بروحك وهم يجهزون لك الشواية وكل شي   مكان رائع ومريح للاعصاب   رجعت عمان والحمدلله بس  شارككم التجارب    ', '  يابه واشيردون بالخاص بله ', '          مينفعش معاها هذي ر ي مقهورة ملبارح متاخوش عليها يا سحر', '  علاش باهي  من قلة اللحم يعني   نهايتها  ليمة كيف ', 'هيجوايين و ماندزوكيتش وديبالا و كواردادو و بيانتش  اليجري يبي يغتصب الدجاج وينتف ريشهم من اول دقيقه  ', '  ربنا يحفظك انت والعائله الكريمه والله يسلمك يارب ويتقبل منا ومنك صالح الاعمال  ', 'والله مدرب فاشل   اذا جيرو خايف يقطه ع احتياط الله ياخذه ويفكنا منه   يا  خي موووت خلاااص', '  نازلة عال  عشان يعقوب بخلص مدرسة   حاخدهم و ننزل', 'محاضرة      بتذكرني بكتير شغلات  منها حكي الدكتور اللي بحسسك  نك بنص البلد  ', 'تراك فالخاطر و لو ما نشوفك و غلاك ما يمحيه قل المواصيل ', '  اانتو عشر دقايق بحالهم فى تصليح عطل احنا بقى ربنا يحفظهم لينا من امبارح والله الساعه   بالليل لحد دلوقتى   دلوقتى اللي اتصلح العطل وربنا يستر', 'وان فعلت الطيب ما هو لاجل حاجه طبع ابوي وطبع امي وصار طبعي  ', '  مش دى نكتة انا بضحك عليها', 'قلبي هيوقف اقسم بالله  ', ' اسراء غريب تعرضت لتعنيف حتى الموت وش هالقساوه ياربي اقاربها لاحول ولاقوة الا بالله من انت لتحرمها من حياتها  ولكن يبقى القاتل الحقيقي اللي اسميها بسوس فلسطين ابنة عمها هي من حرضت وفتنت عشان كذا الفتنه اشد من القتل صدق الحق سبحانه وتعالى', ' هل صليبيه ما حسينا بشي    هزه ارضيه بالكويت', '    اختلف معاك بو حمد اكثر من شخص كانوا سبب تدهور كرة الامارات و تحويل اللاعبين الى اصحاب ملايين بين ليلة و ضحاها و هم ما يستحقون ربع اللي اندفع لهم', '  احلى اوووووووووووووف سمعتها بحياتي ههههههههههه ربي يحفظك', '  مانشا منهم شئ  يفكونا من شرهم', '   فطن شوية  صباح النور والسرور ونهارك زين  ', 'الشباب اللي يصورو سلفيات الهجرة وهم قاعدين في البحر هيا ورونا باقي الصور لما وصلتو', 'انت بجد مرتبط ولا بتنزل رومانسي بس  اعترف   دي شرطة الاكتئاب ولا ايه    ', 'متعملى فولو يا بنى خلينى اديك باك مملكه العيله الدعم مستمر   المارشال وفولورز السهره   كلام معلمين الجمعه     قول فريو وخد فولورز', 'قصة ليبيا ذكرتني بالنكته اللي تقول  واحد مشى يخطب في بنت هلها واعرين  قالهم بندير مقابلة شرعيه  جابوله اختها الصغيرة فـ المربوعه وقالوله نفس هذه غير كبيرة  ', 'اسطوانة البوتاجاز اللي بقت ب   كانت ب   جنيه وقت مبارك ياولاد الكلب صحيح البطران يلاقي القطران كان يوم اسود يوم ما سمعنا اسم ثورة وخرا فوق دماغكم', 'الكل بقلي وجهك قلب اصفر زي الكركم  ', '    كلام صحيح انا اعدت مع ممثلين كتار ومافكارت اخود حتى صورة', '  خذها من باب  استشرافهم للمستقبل ', '  جمهور السد  كبر قاعده جماهيريه وبدون منافس    تركوا عنكم الهياط الفاضي   خلوا عنكم العاطفه و خلكم واقعيين', '  ليه  عاد دكتور محمد كتير لطيف ما بحسو ببهدل', '  والله الدراسة تمام والحياة احلا   ولسا ما  كلت   وهون كمان برد حاسس حالي رح اتجمد  شو اخبارك   شو عاملة بهالدنيا', 'معادني بعبدالله اللي تخبرون    تغيـرت كـل الامــور القـديمـة   ', '      فاسوخ ولا زرايب سعي بعد اتخش للبلاد هههههه زابقلك اليوم', 'اكبر غلطة بحياتك انك تحكي شو مذايقك انك تحكي مشاكلك ولو لمين مكان   غلط غلط غلططط', '  الحل بقاء فوزير وساسي وبرونو وجابو   التشجير انت مش مخول بالحديث عنه فقط يسوري', 'ما تتردد  نك تعمل اشي يريحك   اشي يخل يك مبسوط فكرة المثالية الزايدة و  نك شمعة بتحترق عشان اللي حواليها رح تحرقك آنت  ول واحد    ', '                    هلو عمو عدي صباح الخير ايسلم عليك قبل يومين كان اربعين ابوه وكنت  معزوم عدهم  ', '    اشوة اني حاط  اغلب   ', '  ههههههههههههههههههههههههههههه شاجلار فارض نفسو هو فين ولا مرة شفتو بيكرم ولا ع التيفي ولا ع الصحف ماحدش معبرو', '    مشكلتكم انه كل زول بيحكم على التاني بمزاجو  ما لازم اتكلم في السياسة عشان اكون جئت مبكرا او مت خرة ما لازم اكتب الهاشتاغ الانت عايزه عشان يعجبك تفكيري وما لازم اصلا يعجبك تفكيري ولسة ولسة حسابي لاثراء المحتوى السوداني وارائي بقولا بكل حرية ما عشان زول عشان دا حسابي وانا حرة', '    كان بيكتب عن اقتناع ولكن  نتم مش عاوزين الاقتناع ده  ', 'اللي بيني وبينك اكبر من السوالف دام قلبي في يدينك  ليه يا عمري خايف', 'بس يكفي شره عنا واحنا موافقين    ', '  الله رجعتنا سنين لوري يازينها من ايام مضت', '    هذا ما ينقال له اخ  يعل يخاويه اليرب', '  الله يخليهم لك ويرزقك برهم', '  من على ايامنا ندفع   تو الناس هههههه', '      حلوه صح  ماشاء الله عليه مبدع بالتصميم', '  هذيله ابتدائي خلصوا كلشي وحتي اليهال ما يداومون', '  اول مرة رسمت فيها عصفور طلع هيك كبير', 'كل عام ومحمد بن سلمان الخيير    ', 'وعلى فكرة هذا اللي راتبه   درهم بعد سنتين او كم سنه يقضيها في الامارات يرجع بلده ويفتح بيت ومشروع في بلده وبتزوج   واغلب الجاليات الآسيوية يسوون هالشي لكن هل انته تقدر تسوي نفسه عندنا بالـ  درهم مشروع وتفتح بيت وتتزوج  خلنا نكون منطقيين شوي ونتكلم بعقلانيه  ', 'قصدي صورة البروفايل يعني تكفه فهموا القطه من اول مره  ', '   نشهد  نه يستاهل بو ديب و نت داهية في الشعر شاعرنا بلال صراحة  الله يوفقك  ', 'و كان يدقو مسامير في يديا الاثنين   ويعلقوني من جفوني   و يكوني بالنار   مانيش قايل  ن  يام الدراسة  حلى  يام    محدش يكذب عليك   لكل طالب    نت حاليا  تعيش في  سو   يام حياتك   و يلي يقولك  نها ايام حلوة   هذا   ', '  لانو صار ع بعد مباراة وحدة وممكن نوصل للمونديال', '  شفتو في الاخبار والله ماعرفتو حتى قريت تويت ديالك  ', '   ذا ما اكل ال شارة مااحس اني تغديت    حبها جدا', 'هو قبل كلشي لازم نعتبر محمد صلاح بشر عادي مو ملاك يعني عادي يعصب ويضوج خاصة من واحد يلح بس معجبتني حركة دفعة للطفل كان ي در ي ون الطف شوية  ', '  وانت طيب يا اشرف من عنيه يا غالي انت  ', '  بتجيب حقه وبزيادة طبعا  هو من قلة الشاليهات صارت كتيرة زبط حالك خلينا نعمللنا شاليه', 'صداع هلكني يلعن هالشغلة  ', '    و الله مخرجين مسلسلات سعاد عبدالله و حياة الفهد القديمة هم البيست للحين', '  مدرب بائس و ابن ميتين كلب', '  هذي الخزينه   ماهي للزينه', ' حتراما  للحنين  يا تجيني يا  جيك ', 'السي المشير حفتر قالوا ماشي سياحة  هههههه النعلة وخلاص ', '  اهلا بيكي في عالم تويتر', 'تبي غيري بتلقى   واذا تبي مثلي  صلاة الفرض ماتشبه السنه  ', 'انا مش متخيل اني وصلت  بلجيكا  حاسس حالي  بحلم اقسم بالله', '  زعفران ايه وزعتر ايه ومناقيش ايه ع المطبخ يلا  ', 'مش بنحتاج حد يدينا حلول ل ي مشكله مشاكلنا كل واحد عارف ابعادها ايه بنحتاج حضن  طبطبة  كتف نسند عليه راسنا بنحتاج وجود شخص يفضل قاعد ساكت ويقول انا جنبك وحاسس بيكي بنحتاج امان وضهر وسند بنحتاج حد يجي يقول  اقعي واتعبي واتلخبطي واضعفي ماتشيليش هم انا جنبك ', '  هنقابلهم لا تقلق  دول جايين علي هشتاج  تعالوا زوروا اسوان   تبعنا يعني', 'ود ي امر ك بس يابايع الورد  محتاج لي فرحه تناسب مروري   ', '  بلادكم طاهرة لكنكم انجس واقذر شعب ياواطي قال مرتزقة واحنا اغنى شعب ولله الحمد   جهز نفسك بس لدفع الضرايب من بكرة ترى قالوا حتى حماماتكم العامة بتدفعون عليها ضريبة   اللهم لاشماته بعدين انت وش جنسيتك ياخوفي ايراني عيل   اغطري     روح بس عيددراستك يافاشل', 'اشتقت لك وادري ماني على بالك  تعرف اللي عايش الكذبه و  مصدقها ', '  يمكن تكون غير مسلمة  صوت جميل مريح', 'ابيك تذوق بعض اللي اذوقه  ابيك اتحس في قلبي وعروقه  ابي قلبك يعاني ويت لم  عسى قلبك يكفر عن ذنوبه  عقوبه اصاله  عادل محمود    ', 'اليوم قالولي صغار ارفعنا للاحتفال بالثورة السنة اللي فاتت كنت في ودان وماحضرناش الاحتفال قلتلهم نمشوا للمطار   ', '   روح الروح   احلى رجال   الله يحميلي هالوج   ويسعدك يارب ويخليلي احبابك ويخلينا ياك ياكلشي    ميرسي جوجو  حياتي ع الصورة   ', ' فطارك علينا مع يونس ما تظلموش الناس دي اللوم على الاهلي انه افترى وداس ع الوش جامد من غير رحمه ودا طبيعي للكبت اللي جواهم   الاهلي الزمالك  ', 'كلام حقيقى واللى هيعمل غير كده هيندم  ', ' ص يوصلك مسج نزل معاشك ودي  طب سلايت من الوناسه  ', '  واذا تلطش قام يصيح وقال عنصريه', '  عسى ماشر   شارب هالوقت   ولا شالسالفه   سكنهم مساكنهم', 'سلامات يا بومكه صابك ماصاب قبلك ', 'مع مين بتحكي بس ما تلاقي حدا تحكي معه ', 'ليش ماتحطون مالت السجن اللي بامريكا اللي تنحط بالريل مو احسن  ', '  وليش من تعصبكم والله احنا اجدع شعب واطيب شعب بس انتو مصرين انكم ترسموا عنا صورة لا توجد بنا على فكرة انت حر في تشجعيك لسينغال عادي يعني', 'واحد بيسالني بعد قديش اخدت الاقامة  قلتله بعد  حراك بدنا نعيش  تاريخ مميز لاقامتي', '  هذا حارس جديد اسمه شتيفن  ', 'كيف انتهى دوام الخميس رن علي مهندس بحكيلي في خط  بورقة بعتناها  قلتله بسيطة خليني اشوف من وين الخط  صار يضحك و يحكيلي كيف بتخط و هيك و كيف بدك تصلحي  قلتله مهندس شكرا  انك خبرتني موضوع الخط  هاد من عن ا و احنا منحله داخليا  بس انت خبرني كيف بقدر اصلح الخط  سكر الخط بوجهي  ', '    ممكن قاله احنا حابين جروح مثل هذي في الدوري  ', '  جد الله يبشرك بالخير  ', 'طاحونتي اليوم بتجعني من ولا اشي بس هيك  ذى زيادة نكد عليا  ', 'اتمنى لمنتخبنا الفوز  لو بواحد صفر عال قل ', '  والله لو ما يبقى الا حدودكم ما جيناها  نموت في بلاد ربينا فيها وعزتنا ولا ندخل بلاد ما ن من نفسنا فيها    ذا الحرم وبيت الله طردونا منه تبينا نلج  لكم تخسي  ', '  فوووررزا ليبيا مهما يصير كبيدة', '  هاي اني هيج من يسولفن احط اذني وياهن  ', '    آهو نجري علي  يامي   ليا وحشه امالا ', '    عبارة بسيط رد غطاها  وسع نطاق ', '      و هم شي ما يبتزو الناس', '    طبعا فاكرينه احلى و جمل كتب جبتها من هناك', '    محسن وش معنى سالفتهم هذي  ', ' خــوي  المنتـــصر بالله    فــوتوجيــنيك ما شاء الله طالـــع لــ خوه حمــودي             ', ' اين تكمن راحتك اتوقع الحلقه الاخيرة من حياتي حظي يصير حلو واموت من الفرحه ', '  الليل   القصقصة وتقيد الاحوال في دمهم', '  ماتسكت انت لازم تنكد علي يعني ههه      الغرافه بياخذ الدوري في سنة   مع استضافتنا لكاس العالم  ', '   النصر ضمك  النصر  او اكثر ب ذن الله  احمد موسى اليوم    ', '   وزير اوقاف ولا وزير النفاق والتطبيل   ماينلام تركي بعر اثاريه طالع على عمه ', ' ااااااخ يا شام شلون كنتي وهل  شلون صرتي  حسبي الله ونعم الوكيل فيكم يا مجرمين والله  كبر منكم وعليكم', 'مانترك النخوه ولو  نترك القوت  الضيف ماتبخل بحقه ي ديناا ودون الخوي يامرحبا فيك يالموت  ولو  ماوفو ا ش يباننا مآ حكيناا بوح', '  هلق انبسطوا بحياتكون بس عند ربكون مابضيع شي', 'تطلب عيوني اعطيك عيوني   ايش بدك كمان  ', '    الله يرحمها اخوي  زمن الطيبين ما برجع ', 'النهوض بال مم  ساســــه العلم اللي يبي السلاح يتسلــح بالعلم', '            ماعرفنالك توك تتحداني وتقولي اذا كفو  ', '  يا سبحان الله ك ن الدراسة بد ت امس الله يعطينا خير الدنيا ويكفينا شرها  ', 'ياااااااااني كان في كتير شمتانين طلعو من المستنقعات يندبو ع الريت الاسبوع للي فات بس بدي شوف وشوشهم هلا         ', '  ياك نتي حابة حابة تنتحري  ', 'لا عاد ترجع   وصلك ما عاد يعنيني خلك على غيبتك و ايامنا سلم عليها', '    ابووليد ماعندهم تجاوب اشتكيهم في وزارة التجارة واشتكيهم في موقع    العربيه في تويتر  الخدمه عندهم غير مقبولة والسيارات غير عمليه شوف حسابي وتحصل كل شي عنهم', '  ههههههه ولسه النهارده كمان عليه حفله محترمه', '  تعالي نجربها هي موت  ', '  كل عام وانتي بخير  ', '     هات جسمي وبعدين بقول بالعافيه', '  اشوا ريحتني يخوي كلنا خايفين من ال غنية', 'جزئية انه لازم يدور عشغل و يقعد يحوش و يحوش و يحوش و بعدين يدفعهم مهر لحالها بتخوف بلد   ', '  دول بمنتهى البساطة مرضى ماعرفوش يطلعو من مستنقع فضيلة حتى لاحقين الب في نجاحاتو وبعلقو عليه وع فانزو', 'حان الآن الموعد الاسبوعي لقطع خط التليفون ال رضي اشمعني يوم الجمعة  عشان منكتبش تويتات تنتشر والناس قاعدة ', '  انا ثاني معجبتيين   الكوريات افضل بمراحل من اليابانيات', '  شخباري سطار يعني ال يد يكون فيها ماي', 'المت سلمين والمتدينين اللي رافعين راس العراق امام الدول ويحققون اعلى نسبة مشاهدات للمواقع الاباحية كل عام  انوا   ', '  كان مانعرفوش بعضنا راهو قلت سبول هههه', '   علينا وعليك يتبارك وعساك من عواده', '  وما حد في الدنيا مدرب غير العزاني خلاص اللي عليه  داه وفشل في  كثر من بطولة سادنه', ' جع لي    ز                                    تغيب         ', '   جل منعوا الايرانيين مثل ما حطيتوا العراقيل قدام القطريين  استغفر الله  حتى لا جيتوا تكذبون   تكذبون بغباء  ', 'كل الجيل الجديد خصوصا الجدد اللي يطلعون بالمسلسلات الخليجية  ', '  ايش عرفك يا شروق تفائليلي بالخير  ', '  فعلا صح جدا ولا بيعملوا اي حاجه', 'حال الهوي احوال كل يوم يجيك بحال لو الصبر بيك طال بكره الفرح تلقاه', '  اجمل شي وصلني اليوم بجمال روحك وقلبك ربي يجعلها سنة سعادة وخير و شوفك احسن الناس حبيبتي  ', '  انا ميهمنيش كل ده تطبيع الشعوب اهم واعتقد ان اهم اسباب فشل مصر ان شعبها متدروش وبيكره اسرائيل ومفيش دولة عاقلة هتخلي عدو لها متقدم عشان يقلب عليها اول ما يغتني ويبقى معاه فلوس', 'اسمعو ياشيعه اسمعو ياسنه كيف يستهينون بكم ', '      هههه باينة الممنوعات     ميكة بيضة     ', '   تي ماهو حفتر عنده كاريزما', '  عقلي  تو بيعلق محمد ايقول وتيلي صندوق ', '   ذا ننتظر تشريفك طويل العمر']\n"
          ]
        },
        {
          "output_type": "stream",
          "name": "stderr",
          "text": [
            "/usr/local/lib/python3.7/dist-packages/ipykernel_launcher.py:14: SettingWithCopyWarning: \n",
            "A value is trying to be set on a copy of a slice from a DataFrame.\n",
            "Try using .loc[row_indexer,col_indexer] = value instead\n",
            "\n",
            "See the caveats in the documentation: https://pandas.pydata.org/pandas-docs/stable/user_guide/indexing.html#returning-a-view-versus-a-copy\n",
            "  \n"
          ]
        },
        {
          "output_type": "execute_result",
          "data": {
            "text/plain": [
              "                      id dialect  \\\n",
              "0     449563347961143296      EG   \n",
              "1    1149689450974404608      JO   \n",
              "2    1173198008093163520      KW   \n",
              "3     307510240012812288      QA   \n",
              "4     847567673680678912      AE   \n",
              "..                   ...     ...   \n",
              "495   376569787490373632      OM   \n",
              "496   807150897922981888      QA   \n",
              "497  1141315743860043776      KW   \n",
              "498  1124050052157145216      BH   \n",
              "499  1178038117539950592      QA   \n",
              "\n",
              "                                       processed_texts  \n",
              "0    الله يحرقك بجاز ي عرة الرجالة   ل  عرة الذكور ...  \n",
              "1                         هذيلا نسمع عنهم بس ما نشوفهم  \n",
              "2          هاو ليك الاخبار لي تفرح جاب ربي ماتزوجنا...  \n",
              "3    العاهات الي يحطون فرص صلاح وغيره ويكتبون لو مس...  \n",
              "4                        انا بصحى بدري عشان اصنع مجد    \n",
              "..                                                 ...  \n",
              "495         اسمعو ياشيعه اسمعو ياسنه كيف يستهينون بكم   \n",
              "496            هههه باينة الممنوعات     ميكة بيضة       \n",
              "497                          تي ماهو حفتر عنده كاريزما  \n",
              "498             عقلي  تو بيعلق محمد ايقول وتيلي صندوق   \n",
              "499                         ذا ننتظر تشريفك طويل العمر  \n",
              "\n",
              "[500 rows x 3 columns]"
            ],
            "text/html": [
              "\n",
              "  <div id=\"df-56b03099-62b1-4e69-8710-4905abbd1046\">\n",
              "    <div class=\"colab-df-container\">\n",
              "      <div>\n",
              "<style scoped>\n",
              "    .dataframe tbody tr th:only-of-type {\n",
              "        vertical-align: middle;\n",
              "    }\n",
              "\n",
              "    .dataframe tbody tr th {\n",
              "        vertical-align: top;\n",
              "    }\n",
              "\n",
              "    .dataframe thead th {\n",
              "        text-align: right;\n",
              "    }\n",
              "</style>\n",
              "<table border=\"1\" class=\"dataframe\">\n",
              "  <thead>\n",
              "    <tr style=\"text-align: right;\">\n",
              "      <th></th>\n",
              "      <th>id</th>\n",
              "      <th>dialect</th>\n",
              "      <th>processed_texts</th>\n",
              "    </tr>\n",
              "  </thead>\n",
              "  <tbody>\n",
              "    <tr>\n",
              "      <th>0</th>\n",
              "      <td>449563347961143296</td>\n",
              "      <td>EG</td>\n",
              "      <td>الله يحرقك بجاز ي عرة الرجالة   ل  عرة الذكور ...</td>\n",
              "    </tr>\n",
              "    <tr>\n",
              "      <th>1</th>\n",
              "      <td>1149689450974404608</td>\n",
              "      <td>JO</td>\n",
              "      <td>هذيلا نسمع عنهم بس ما نشوفهم</td>\n",
              "    </tr>\n",
              "    <tr>\n",
              "      <th>2</th>\n",
              "      <td>1173198008093163520</td>\n",
              "      <td>KW</td>\n",
              "      <td>هاو ليك الاخبار لي تفرح جاب ربي ماتزوجنا...</td>\n",
              "    </tr>\n",
              "    <tr>\n",
              "      <th>3</th>\n",
              "      <td>307510240012812288</td>\n",
              "      <td>QA</td>\n",
              "      <td>العاهات الي يحطون فرص صلاح وغيره ويكتبون لو مس...</td>\n",
              "    </tr>\n",
              "    <tr>\n",
              "      <th>4</th>\n",
              "      <td>847567673680678912</td>\n",
              "      <td>AE</td>\n",
              "      <td>انا بصحى بدري عشان اصنع مجد</td>\n",
              "    </tr>\n",
              "    <tr>\n",
              "      <th>...</th>\n",
              "      <td>...</td>\n",
              "      <td>...</td>\n",
              "      <td>...</td>\n",
              "    </tr>\n",
              "    <tr>\n",
              "      <th>495</th>\n",
              "      <td>376569787490373632</td>\n",
              "      <td>OM</td>\n",
              "      <td>اسمعو ياشيعه اسمعو ياسنه كيف يستهينون بكم</td>\n",
              "    </tr>\n",
              "    <tr>\n",
              "      <th>496</th>\n",
              "      <td>807150897922981888</td>\n",
              "      <td>QA</td>\n",
              "      <td>هههه باينة الممنوعات     ميكة بيضة</td>\n",
              "    </tr>\n",
              "    <tr>\n",
              "      <th>497</th>\n",
              "      <td>1141315743860043776</td>\n",
              "      <td>KW</td>\n",
              "      <td>تي ماهو حفتر عنده كاريزما</td>\n",
              "    </tr>\n",
              "    <tr>\n",
              "      <th>498</th>\n",
              "      <td>1124050052157145216</td>\n",
              "      <td>BH</td>\n",
              "      <td>عقلي  تو بيعلق محمد ايقول وتيلي صندوق</td>\n",
              "    </tr>\n",
              "    <tr>\n",
              "      <th>499</th>\n",
              "      <td>1178038117539950592</td>\n",
              "      <td>QA</td>\n",
              "      <td>ذا ننتظر تشريفك طويل العمر</td>\n",
              "    </tr>\n",
              "  </tbody>\n",
              "</table>\n",
              "<p>500 rows × 3 columns</p>\n",
              "</div>\n",
              "      <button class=\"colab-df-convert\" onclick=\"convertToInteractive('df-56b03099-62b1-4e69-8710-4905abbd1046')\"\n",
              "              title=\"Convert this dataframe to an interactive table.\"\n",
              "              style=\"display:none;\">\n",
              "        \n",
              "  <svg xmlns=\"http://www.w3.org/2000/svg\" height=\"24px\"viewBox=\"0 0 24 24\"\n",
              "       width=\"24px\">\n",
              "    <path d=\"M0 0h24v24H0V0z\" fill=\"none\"/>\n",
              "    <path d=\"M18.56 5.44l.94 2.06.94-2.06 2.06-.94-2.06-.94-.94-2.06-.94 2.06-2.06.94zm-11 1L8.5 8.5l.94-2.06 2.06-.94-2.06-.94L8.5 2.5l-.94 2.06-2.06.94zm10 10l.94 2.06.94-2.06 2.06-.94-2.06-.94-.94-2.06-.94 2.06-2.06.94z\"/><path d=\"M17.41 7.96l-1.37-1.37c-.4-.4-.92-.59-1.43-.59-.52 0-1.04.2-1.43.59L10.3 9.45l-7.72 7.72c-.78.78-.78 2.05 0 2.83L4 21.41c.39.39.9.59 1.41.59.51 0 1.02-.2 1.41-.59l7.78-7.78 2.81-2.81c.8-.78.8-2.07 0-2.86zM5.41 20L4 18.59l7.72-7.72 1.47 1.35L5.41 20z\"/>\n",
              "  </svg>\n",
              "      </button>\n",
              "      \n",
              "  <style>\n",
              "    .colab-df-container {\n",
              "      display:flex;\n",
              "      flex-wrap:wrap;\n",
              "      gap: 12px;\n",
              "    }\n",
              "\n",
              "    .colab-df-convert {\n",
              "      background-color: #E8F0FE;\n",
              "      border: none;\n",
              "      border-radius: 50%;\n",
              "      cursor: pointer;\n",
              "      display: none;\n",
              "      fill: #1967D2;\n",
              "      height: 32px;\n",
              "      padding: 0 0 0 0;\n",
              "      width: 32px;\n",
              "    }\n",
              "\n",
              "    .colab-df-convert:hover {\n",
              "      background-color: #E2EBFA;\n",
              "      box-shadow: 0px 1px 2px rgba(60, 64, 67, 0.3), 0px 1px 3px 1px rgba(60, 64, 67, 0.15);\n",
              "      fill: #174EA6;\n",
              "    }\n",
              "\n",
              "    [theme=dark] .colab-df-convert {\n",
              "      background-color: #3B4455;\n",
              "      fill: #D2E3FC;\n",
              "    }\n",
              "\n",
              "    [theme=dark] .colab-df-convert:hover {\n",
              "      background-color: #434B5C;\n",
              "      box-shadow: 0px 1px 3px 1px rgba(0, 0, 0, 0.15);\n",
              "      filter: drop-shadow(0px 1px 2px rgba(0, 0, 0, 0.3));\n",
              "      fill: #FFFFFF;\n",
              "    }\n",
              "  </style>\n",
              "\n",
              "      <script>\n",
              "        const buttonEl =\n",
              "          document.querySelector('#df-56b03099-62b1-4e69-8710-4905abbd1046 button.colab-df-convert');\n",
              "        buttonEl.style.display =\n",
              "          google.colab.kernel.accessAllowed ? 'block' : 'none';\n",
              "\n",
              "        async function convertToInteractive(key) {\n",
              "          const element = document.querySelector('#df-56b03099-62b1-4e69-8710-4905abbd1046');\n",
              "          const dataTable =\n",
              "            await google.colab.kernel.invokeFunction('convertToInteractive',\n",
              "                                                     [key], {});\n",
              "          if (!dataTable) return;\n",
              "\n",
              "          const docLinkHtml = 'Like what you see? Visit the ' +\n",
              "            '<a target=\"_blank\" href=https://colab.research.google.com/notebooks/data_table.ipynb>data table notebook</a>'\n",
              "            + ' to learn more about interactive tables.';\n",
              "          element.innerHTML = '';\n",
              "          dataTable['output_type'] = 'display_data';\n",
              "          await google.colab.output.renderOutput(dataTable, element);\n",
              "          const docLink = document.createElement('div');\n",
              "          docLink.innerHTML = docLinkHtml;\n",
              "          element.appendChild(docLink);\n",
              "        }\n",
              "      </script>\n",
              "    </div>\n",
              "  </div>\n",
              "  "
            ]
          },
          "metadata": {},
          "execution_count": 66
        }
      ]
    },
    {
      "cell_type": "code",
      "source": [
        "df_new['dialect'][50]"
      ],
      "metadata": {
        "colab": {
          "base_uri": "https://localhost:8080/",
          "height": 36
        },
        "id": "GAL2KzhFqrTC",
        "outputId": "48e883da-6d90-4427-c53a-ee1432e53ac2"
      },
      "execution_count": null,
      "outputs": [
        {
          "output_type": "execute_result",
          "data": {
            "text/plain": [
              "'SA'"
            ],
            "application/vnd.google.colaboratory.intrinsic+json": {
              "type": "string"
            }
          },
          "metadata": {},
          "execution_count": 67
        }
      ]
    },
    {
      "cell_type": "code",
      "source": [
        "#generate random samples from the new data frame which have processed texts\n",
        "import random\n",
        "for i in range(0,50000):\n",
        "  random_num = random.choice(df_new['processed_texts'])\n",
        "print(random_num)\n"
      ],
      "metadata": {
        "colab": {
          "base_uri": "https://localhost:8080/"
        },
        "id": "5r7rin7_R1K0",
        "outputId": "3a1f6707-801e-484e-b918-067497a6e099"
      },
      "execution_count": null,
      "outputs": [
        {
          "output_type": "stream",
          "name": "stdout",
          "text": [
            "  مش دى نكتة انا بضحك عليها\n"
          ]
        }
      ]
    },
    {
      "cell_type": "markdown",
      "source": [
        "#ML models"
      ],
      "metadata": {
        "id": "FUbxET4V_mGx"
      }
    },
    {
      "cell_type": "code",
      "source": [
        "from sklearn.model_selection import train_test_split"
      ],
      "metadata": {
        "id": "QwIUscAdrMml"
      },
      "execution_count": null,
      "outputs": []
    },
    {
      "cell_type": "code",
      "source": [
        "y=df_new.dialect\n",
        "y.head()\n"
      ],
      "metadata": {
        "colab": {
          "base_uri": "https://localhost:8080/"
        },
        "id": "hKEOzIbirM3L",
        "outputId": "72de1a3c-84c6-4ab3-8a0d-3adfe793518e"
      },
      "execution_count": null,
      "outputs": [
        {
          "output_type": "execute_result",
          "data": {
            "text/plain": [
              "0    EG\n",
              "1    JO\n",
              "2    KW\n",
              "3    QA\n",
              "4    AE\n",
              "Name: dialect, dtype: object"
            ]
          },
          "metadata": {},
          "execution_count": 71
        }
      ]
    },
    {
      "cell_type": "code",
      "source": [
        "X=df_new.processed_texts\n",
        "X.head()"
      ],
      "metadata": {
        "colab": {
          "base_uri": "https://localhost:8080/"
        },
        "id": "Z8JJTeU20QWu",
        "outputId": "e41ee1d3-9e24-4977-e6da-d3bb8052a645"
      },
      "execution_count": null,
      "outputs": [
        {
          "output_type": "execute_result",
          "data": {
            "text/plain": [
              "0    الله يحرقك بجاز ي عرة الرجالة   ل  عرة الذكور ...\n",
              "1                         هذيلا نسمع عنهم بس ما نشوفهم\n",
              "2          هاو ليك الاخبار لي تفرح جاب ربي ماتزوجنا...\n",
              "3    العاهات الي يحطون فرص صلاح وغيره ويكتبون لو مس...\n",
              "4                        انا بصحى بدري عشان اصنع مجد  \n",
              "Name: processed_texts, dtype: object"
            ]
          },
          "metadata": {},
          "execution_count": 73
        }
      ]
    },
    {
      "cell_type": "code",
      "source": [
        "X_train,X_test,y_train,y_test=train_test_split(X,y,test_size=0.2)"
      ],
      "metadata": {
        "id": "PcZQEGUmrM8I"
      },
      "execution_count": null,
      "outputs": []
    },
    {
      "cell_type": "code",
      "source": [
        ""
      ],
      "metadata": {
        "id": "oc0QPX03lmrP"
      },
      "execution_count": null,
      "outputs": []
    },
    {
      "cell_type": "code",
      "source": [
        ""
      ],
      "metadata": {
        "colab": {
          "base_uri": "https://localhost:8080/"
        },
        "id": "ji7kUxl8mcw0",
        "outputId": "6cf01565-a1ef-4ad0-eff8-3df4336861f3"
      },
      "execution_count": null,
      "outputs": [
        {
          "output_type": "stream",
          "name": "stdout",
          "text": [
            "Collecting emoji\n",
            "  Downloading emoji-1.7.0.tar.gz (175 kB)\n",
            "\u001b[?25l\r\u001b[K     |█▉                              | 10 kB 16.9 MB/s eta 0:00:01\r\u001b[K     |███▊                            | 20 kB 8.5 MB/s eta 0:00:01\r\u001b[K     |█████▋                          | 30 kB 7.4 MB/s eta 0:00:01\r\u001b[K     |███████▌                        | 40 kB 3.3 MB/s eta 0:00:01\r\u001b[K     |█████████▍                      | 51 kB 3.3 MB/s eta 0:00:01\r\u001b[K     |███████████▏                    | 61 kB 3.8 MB/s eta 0:00:01\r\u001b[K     |█████████████                   | 71 kB 4.1 MB/s eta 0:00:01\r\u001b[K     |███████████████                 | 81 kB 4.1 MB/s eta 0:00:01\r\u001b[K     |████████████████▉               | 92 kB 4.4 MB/s eta 0:00:01\r\u001b[K     |██████████████████▊             | 102 kB 3.9 MB/s eta 0:00:01\r\u001b[K     |████████████████████▌           | 112 kB 3.9 MB/s eta 0:00:01\r\u001b[K     |██████████████████████▍         | 122 kB 3.9 MB/s eta 0:00:01\r\u001b[K     |████████████████████████▎       | 133 kB 3.9 MB/s eta 0:00:01\r\u001b[K     |██████████████████████████▏     | 143 kB 3.9 MB/s eta 0:00:01\r\u001b[K     |████████████████████████████    | 153 kB 3.9 MB/s eta 0:00:01\r\u001b[K     |█████████████████████████████▉  | 163 kB 3.9 MB/s eta 0:00:01\r\u001b[K     |███████████████████████████████▊| 174 kB 3.9 MB/s eta 0:00:01\r\u001b[K     |████████████████████████████████| 175 kB 3.9 MB/s \n",
            "\u001b[?25hBuilding wheels for collected packages: emoji\n",
            "  Building wheel for emoji (setup.py) ... \u001b[?25l\u001b[?25hdone\n",
            "  Created wheel for emoji: filename=emoji-1.7.0-py3-none-any.whl size=171046 sha256=5761902895f3b2fdeb7aade728591bcff4cbcbb56ac67499ca3d9d75413b64f0\n",
            "  Stored in directory: /root/.cache/pip/wheels/8a/4e/b6/57b01db010d17ef6ea9b40300af725ef3e210cb1acfb7ac8b6\n",
            "Successfully built emoji\n",
            "Installing collected packages: emoji\n",
            "Successfully installed emoji-1.7.0\n"
          ]
        }
      ]
    },
    {
      "cell_type": "code",
      "source": [
        "#tokenization and lematization:"
      ],
      "metadata": {
        "id": "1uOP2AgwtcvD"
      },
      "execution_count": null,
      "outputs": []
    },
    {
      "cell_type": "code",
      "source": [
        ""
      ],
      "metadata": {
        "id": "-eaLPnFbBS-f"
      },
      "execution_count": null,
      "outputs": []
    },
    {
      "cell_type": "code",
      "source": [
        ""
      ],
      "metadata": {
        "id": "v0-NsC1qBTEk"
      },
      "execution_count": null,
      "outputs": []
    }
  ]
}